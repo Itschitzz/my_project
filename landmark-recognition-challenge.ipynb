{
 "cells": [
  {
   "cell_type": "code",
   "execution_count": 1,
   "metadata": {
    "_cell_guid": "b1076dfc-b9ad-4769-8c92-a6c4dae69d19",
    "_uuid": "8f2839f25d086af736a60e9eeb907d3b93b6e0e5",
    "execution": {
     "iopub.execute_input": "2020-09-22T16:07:46.143056Z",
     "iopub.status.busy": "2020-09-22T16:07:46.142152Z",
     "iopub.status.idle": "2020-09-22T16:07:46.147571Z",
     "shell.execute_reply": "2020-09-22T16:07:46.146728Z"
    },
    "papermill": {
     "duration": 0.038529,
     "end_time": "2020-09-22T16:07:46.147727",
     "exception": false,
     "start_time": "2020-09-22T16:07:46.109198",
     "status": "completed"
    },
    "tags": []
   },
   "outputs": [
    {
     "name": "stdout",
     "output_type": "stream",
     "text": [
      "/kaggle/input/landmark-recognition-challenge/sample_submission.csv.zip\n",
      "/kaggle/input/landmark-recognition-challenge/test.csv.zip\n",
      "/kaggle/input/landmark-recognition-challenge/train.csv.zip\n"
     ]
    }
   ],
   "source": [
    "# This Python 3 environment comes with many helpful analytics libraries installed\n",
    "# It is defined by the kaggle/python Docker image: https://github.com/kaggle/docker-python\n",
    "# For example, here's several helpful packages to load\n",
    "\n",
    "import numpy as np # linear algebra\n",
    "import pandas as pd # data processing, CSV file I/O (e.g. pd.read_csv)\n",
    "\n",
    "# Input data files are available in the read-only \"../input/\" directory\n",
    "# For example, running this (by clicking run or pressing Shift+Enter) will list all files under the input directory\n",
    "\n",
    "import os\n",
    "for dirname, _, filenames in os.walk('/kaggle/input'):\n",
    "    for filename in filenames:\n",
    "        print(os.path.join(dirname, filename))\n",
    "\n",
    "# You can write up to 5GB to the current directory (/kaggle/working/) that gets preserved as output when you create a version using \"Save & Run All\" \n",
    "# You can also write temporary files to /kaggle/temp/, but they won't be saved outside of the current session"
   ]
  },
  {
   "cell_type": "code",
   "execution_count": 2,
   "metadata": {
    "_cell_guid": "79c7e3d0-c299-4dcb-8224-4455121ee9b0",
    "_uuid": "d629ff2d2480ee46fbb7e2d37f6b5fab8052498a",
    "execution": {
     "iopub.execute_input": "2020-09-22T16:07:46.205919Z",
     "iopub.status.busy": "2020-09-22T16:07:46.205375Z",
     "iopub.status.idle": "2020-09-22T16:07:47.143782Z",
     "shell.execute_reply": "2020-09-22T16:07:47.143246Z"
    },
    "papermill": {
     "duration": 0.968901,
     "end_time": "2020-09-22T16:07:47.143901",
     "exception": false,
     "start_time": "2020-09-22T16:07:46.175000",
     "status": "completed"
    },
    "tags": []
   },
   "outputs": [],
   "source": [
    "import numpy as np # linear algebra\n",
    "import pandas as pd # data processing, CSV file I/O (e.g. pd.read_csv)\n",
    "import matplotlib.pyplot as plt\n",
    "import seaborn as sns\n",
    "from IPython.display import Image\n",
    "from IPython.core.display import HTML \n",
    "%matplotlib inline "
   ]
  },
  {
   "cell_type": "code",
   "execution_count": 3,
   "metadata": {
    "execution": {
     "iopub.execute_input": "2020-09-22T16:07:47.201665Z",
     "iopub.status.busy": "2020-09-22T16:07:47.200925Z",
     "iopub.status.idle": "2020-09-22T16:07:51.018419Z",
     "shell.execute_reply": "2020-09-22T16:07:51.017768Z"
    },
    "papermill": {
     "duration": 3.848958,
     "end_time": "2020-09-22T16:07:51.018540",
     "exception": false,
     "start_time": "2020-09-22T16:07:47.169582",
     "status": "completed"
    },
    "tags": []
   },
   "outputs": [],
   "source": [
    "train_df = pd.read_csv('../input/landmark-recognition-challenge/train.csv.zip')\n",
    "test_df = pd.read_csv('../input/landmark-recognition-challenge/test.csv.zip')\n",
    "submission = pd.read_csv('../input/landmark-recognition-challenge/sample_submission.csv.zip')"
   ]
  },
  {
   "cell_type": "code",
   "execution_count": 4,
   "metadata": {
    "execution": {
     "iopub.execute_input": "2020-09-22T16:07:51.075729Z",
     "iopub.status.busy": "2020-09-22T16:07:51.074745Z",
     "iopub.status.idle": "2020-09-22T16:07:51.080023Z",
     "shell.execute_reply": "2020-09-22T16:07:51.079566Z"
    },
    "papermill": {
     "duration": 0.035937,
     "end_time": "2020-09-22T16:07:51.080151",
     "exception": false,
     "start_time": "2020-09-22T16:07:51.044214",
     "status": "completed"
    },
    "tags": []
   },
   "outputs": [
    {
     "name": "stdout",
     "output_type": "stream",
     "text": [
      "Train data shape -  rows: 1225029  columns: 3\n",
      "Test data size -  rows: 117703  columns: 2\n"
     ]
    }
   ],
   "source": [
    "print(\"Train data shape -  rows:\",train_df.shape[0],\" columns:\", train_df.shape[1])\n",
    "print(\"Test data size -  rows:\",test_df.shape[0],\" columns:\", test_df.shape[1])"
   ]
  },
  {
   "cell_type": "code",
   "execution_count": 5,
   "metadata": {
    "execution": {
     "iopub.execute_input": "2020-09-22T16:07:51.143560Z",
     "iopub.status.busy": "2020-09-22T16:07:51.142807Z",
     "iopub.status.idle": "2020-09-22T16:07:51.151455Z",
     "shell.execute_reply": "2020-09-22T16:07:51.151911Z"
    },
    "papermill": {
     "duration": 0.046183,
     "end_time": "2020-09-22T16:07:51.152051",
     "exception": false,
     "start_time": "2020-09-22T16:07:51.105868",
     "status": "completed"
    },
    "tags": []
   },
   "outputs": [
    {
     "data": {
      "text/html": [
       "<div>\n",
       "<style scoped>\n",
       "    .dataframe tbody tr th:only-of-type {\n",
       "        vertical-align: middle;\n",
       "    }\n",
       "\n",
       "    .dataframe tbody tr th {\n",
       "        vertical-align: top;\n",
       "    }\n",
       "\n",
       "    .dataframe thead th {\n",
       "        text-align: right;\n",
       "    }\n",
       "</style>\n",
       "<table border=\"1\" class=\"dataframe\">\n",
       "  <thead>\n",
       "    <tr style=\"text-align: right;\">\n",
       "      <th></th>\n",
       "      <th>id</th>\n",
       "      <th>url</th>\n",
       "      <th>landmark_id</th>\n",
       "    </tr>\n",
       "  </thead>\n",
       "  <tbody>\n",
       "    <tr>\n",
       "      <th>0</th>\n",
       "      <td>cacf8152e2d2ae60</td>\n",
       "      <td>http://static.panoramio.com/photos/original/70...</td>\n",
       "      <td>4676</td>\n",
       "    </tr>\n",
       "    <tr>\n",
       "      <th>1</th>\n",
       "      <td>0a58358a2afd3e4e</td>\n",
       "      <td>http://lh6.ggpht.com/-igpT6wu0mIA/ROV8HnUuABI/...</td>\n",
       "      <td>6651</td>\n",
       "    </tr>\n",
       "    <tr>\n",
       "      <th>2</th>\n",
       "      <td>6b2bb500b6a38aa0</td>\n",
       "      <td>http://lh6.ggpht.com/-vKr5G5MEusk/SR6r6SJi6mI/...</td>\n",
       "      <td>11284</td>\n",
       "    </tr>\n",
       "    <tr>\n",
       "      <th>3</th>\n",
       "      <td>b399f09dee9c3c67</td>\n",
       "      <td>https://lh3.googleusercontent.com/-LOW2cjAqubA...</td>\n",
       "      <td>8429</td>\n",
       "    </tr>\n",
       "    <tr>\n",
       "      <th>4</th>\n",
       "      <td>19ace29d77a5be66</td>\n",
       "      <td>https://lh5.googleusercontent.com/-tnmSXwQcWL8...</td>\n",
       "      <td>6231</td>\n",
       "    </tr>\n",
       "  </tbody>\n",
       "</table>\n",
       "</div>"
      ],
      "text/plain": [
       "                 id                                                url  \\\n",
       "0  cacf8152e2d2ae60  http://static.panoramio.com/photos/original/70...   \n",
       "1  0a58358a2afd3e4e  http://lh6.ggpht.com/-igpT6wu0mIA/ROV8HnUuABI/...   \n",
       "2  6b2bb500b6a38aa0  http://lh6.ggpht.com/-vKr5G5MEusk/SR6r6SJi6mI/...   \n",
       "3  b399f09dee9c3c67  https://lh3.googleusercontent.com/-LOW2cjAqubA...   \n",
       "4  19ace29d77a5be66  https://lh5.googleusercontent.com/-tnmSXwQcWL8...   \n",
       "\n",
       "   landmark_id  \n",
       "0         4676  \n",
       "1         6651  \n",
       "2        11284  \n",
       "3         8429  \n",
       "4         6231  "
      ]
     },
     "execution_count": 5,
     "metadata": {},
     "output_type": "execute_result"
    }
   ],
   "source": [
    "train_df.head()"
   ]
  },
  {
   "cell_type": "code",
   "execution_count": 6,
   "metadata": {
    "execution": {
     "iopub.execute_input": "2020-09-22T16:07:51.214525Z",
     "iopub.status.busy": "2020-09-22T16:07:51.213923Z",
     "iopub.status.idle": "2020-09-22T16:07:51.218923Z",
     "shell.execute_reply": "2020-09-22T16:07:51.218444Z"
    },
    "papermill": {
     "duration": 0.039597,
     "end_time": "2020-09-22T16:07:51.219035",
     "exception": false,
     "start_time": "2020-09-22T16:07:51.179438",
     "status": "completed"
    },
    "tags": []
   },
   "outputs": [
    {
     "data": {
      "text/html": [
       "<div>\n",
       "<style scoped>\n",
       "    .dataframe tbody tr th:only-of-type {\n",
       "        vertical-align: middle;\n",
       "    }\n",
       "\n",
       "    .dataframe tbody tr th {\n",
       "        vertical-align: top;\n",
       "    }\n",
       "\n",
       "    .dataframe thead th {\n",
       "        text-align: right;\n",
       "    }\n",
       "</style>\n",
       "<table border=\"1\" class=\"dataframe\">\n",
       "  <thead>\n",
       "    <tr style=\"text-align: right;\">\n",
       "      <th></th>\n",
       "      <th>id</th>\n",
       "      <th>url</th>\n",
       "    </tr>\n",
       "  </thead>\n",
       "  <tbody>\n",
       "    <tr>\n",
       "      <th>0</th>\n",
       "      <td>000088da12d664db</td>\n",
       "      <td>https://lh3.googleusercontent.com/-k45wfamuhT8...</td>\n",
       "    </tr>\n",
       "    <tr>\n",
       "      <th>1</th>\n",
       "      <td>0001623c6d808702</td>\n",
       "      <td>https://lh3.googleusercontent.com/-OQ0ywv8KVIA...</td>\n",
       "    </tr>\n",
       "    <tr>\n",
       "      <th>2</th>\n",
       "      <td>0001bbb682d45002</td>\n",
       "      <td>https://lh3.googleusercontent.com/-kloLenz1xZk...</td>\n",
       "    </tr>\n",
       "    <tr>\n",
       "      <th>3</th>\n",
       "      <td>0002362830cfe3a3</td>\n",
       "      <td>https://lh3.googleusercontent.com/-N6z79jNZYTg...</td>\n",
       "    </tr>\n",
       "    <tr>\n",
       "      <th>4</th>\n",
       "      <td>000270c9100de789</td>\n",
       "      <td>https://lh3.googleusercontent.com/-keriHaVOq1U...</td>\n",
       "    </tr>\n",
       "  </tbody>\n",
       "</table>\n",
       "</div>"
      ],
      "text/plain": [
       "                 id                                                url\n",
       "0  000088da12d664db  https://lh3.googleusercontent.com/-k45wfamuhT8...\n",
       "1  0001623c6d808702  https://lh3.googleusercontent.com/-OQ0ywv8KVIA...\n",
       "2  0001bbb682d45002  https://lh3.googleusercontent.com/-kloLenz1xZk...\n",
       "3  0002362830cfe3a3  https://lh3.googleusercontent.com/-N6z79jNZYTg...\n",
       "4  000270c9100de789  https://lh3.googleusercontent.com/-keriHaVOq1U..."
      ]
     },
     "execution_count": 6,
     "metadata": {},
     "output_type": "execute_result"
    }
   ],
   "source": [
    "test_df.head()"
   ]
  },
  {
   "cell_type": "code",
   "execution_count": 7,
   "metadata": {
    "execution": {
     "iopub.execute_input": "2020-09-22T16:07:51.282362Z",
     "iopub.status.busy": "2020-09-22T16:07:51.281232Z",
     "iopub.status.idle": "2020-09-22T16:07:51.285599Z",
     "shell.execute_reply": "2020-09-22T16:07:51.285152Z"
    },
    "papermill": {
     "duration": 0.03998,
     "end_time": "2020-09-22T16:07:51.285703",
     "exception": false,
     "start_time": "2020-09-22T16:07:51.245723",
     "status": "completed"
    },
    "tags": []
   },
   "outputs": [
    {
     "data": {
      "text/html": [
       "<div>\n",
       "<style scoped>\n",
       "    .dataframe tbody tr th:only-of-type {\n",
       "        vertical-align: middle;\n",
       "    }\n",
       "\n",
       "    .dataframe tbody tr th {\n",
       "        vertical-align: top;\n",
       "    }\n",
       "\n",
       "    .dataframe thead th {\n",
       "        text-align: right;\n",
       "    }\n",
       "</style>\n",
       "<table border=\"1\" class=\"dataframe\">\n",
       "  <thead>\n",
       "    <tr style=\"text-align: right;\">\n",
       "      <th></th>\n",
       "      <th>id</th>\n",
       "      <th>landmarks</th>\n",
       "    </tr>\n",
       "  </thead>\n",
       "  <tbody>\n",
       "    <tr>\n",
       "      <th>0</th>\n",
       "      <td>000088da12d664db</td>\n",
       "      <td>8815 0.03</td>\n",
       "    </tr>\n",
       "    <tr>\n",
       "      <th>1</th>\n",
       "      <td>0001623c6d808702</td>\n",
       "      <td>7249 0.61</td>\n",
       "    </tr>\n",
       "    <tr>\n",
       "      <th>2</th>\n",
       "      <td>0001bbb682d45002</td>\n",
       "      <td>5328 0.5</td>\n",
       "    </tr>\n",
       "    <tr>\n",
       "      <th>3</th>\n",
       "      <td>0002362830cfe3a3</td>\n",
       "      <td>4188 0.96</td>\n",
       "    </tr>\n",
       "    <tr>\n",
       "      <th>4</th>\n",
       "      <td>000270c9100de789</td>\n",
       "      <td>10506 0.82</td>\n",
       "    </tr>\n",
       "  </tbody>\n",
       "</table>\n",
       "</div>"
      ],
      "text/plain": [
       "                 id   landmarks\n",
       "0  000088da12d664db   8815 0.03\n",
       "1  0001623c6d808702   7249 0.61\n",
       "2  0001bbb682d45002    5328 0.5\n",
       "3  0002362830cfe3a3   4188 0.96\n",
       "4  000270c9100de789  10506 0.82"
      ]
     },
     "execution_count": 7,
     "metadata": {},
     "output_type": "execute_result"
    }
   ],
   "source": [
    "submission.head()"
   ]
  },
  {
   "cell_type": "code",
   "execution_count": 8,
   "metadata": {
    "execution": {
     "iopub.execute_input": "2020-09-22T16:07:51.343353Z",
     "iopub.status.busy": "2020-09-22T16:07:51.342732Z",
     "iopub.status.idle": "2020-09-22T16:07:51.582502Z",
     "shell.execute_reply": "2020-09-22T16:07:51.581471Z"
    },
    "papermill": {
     "duration": 0.269211,
     "end_time": "2020-09-22T16:07:51.582634",
     "exception": false,
     "start_time": "2020-09-22T16:07:51.313423",
     "status": "completed"
    },
    "tags": []
   },
   "outputs": [
    {
     "data": {
      "text/html": [
       "<div>\n",
       "<style scoped>\n",
       "    .dataframe tbody tr th:only-of-type {\n",
       "        vertical-align: middle;\n",
       "    }\n",
       "\n",
       "    .dataframe tbody tr th {\n",
       "        vertical-align: top;\n",
       "    }\n",
       "\n",
       "    .dataframe thead th {\n",
       "        text-align: right;\n",
       "    }\n",
       "</style>\n",
       "<table border=\"1\" class=\"dataframe\">\n",
       "  <thead>\n",
       "    <tr style=\"text-align: right;\">\n",
       "      <th></th>\n",
       "      <th>Missing</th>\n",
       "      <th>All</th>\n",
       "    </tr>\n",
       "  </thead>\n",
       "  <tbody>\n",
       "    <tr>\n",
       "      <th>id</th>\n",
       "      <td>0</td>\n",
       "      <td>1225029</td>\n",
       "    </tr>\n",
       "    <tr>\n",
       "      <th>url</th>\n",
       "      <td>0</td>\n",
       "      <td>1225029</td>\n",
       "    </tr>\n",
       "    <tr>\n",
       "      <th>landmark_id</th>\n",
       "      <td>0</td>\n",
       "      <td>1225029</td>\n",
       "    </tr>\n",
       "  </tbody>\n",
       "</table>\n",
       "</div>"
      ],
      "text/plain": [
       "             Missing      All\n",
       "id                 0  1225029\n",
       "url                0  1225029\n",
       "landmark_id        0  1225029"
      ]
     },
     "execution_count": 8,
     "metadata": {},
     "output_type": "execute_result"
    }
   ],
   "source": [
    "# missing data in training data set\n",
    "missing = train_df.isnull().sum()\n",
    "all_val = train_df.count()\n",
    "\n",
    "missing_train_df = pd.concat([missing, all_val], axis=1, keys=['Missing', 'All'])\n",
    "missing_train_df"
   ]
  },
  {
   "cell_type": "code",
   "execution_count": 9,
   "metadata": {
    "execution": {
     "iopub.execute_input": "2020-09-22T16:07:51.669429Z",
     "iopub.status.busy": "2020-09-22T16:07:51.668434Z",
     "iopub.status.idle": "2020-09-22T16:07:51.703454Z",
     "shell.execute_reply": "2020-09-22T16:07:51.702669Z"
    },
    "papermill": {
     "duration": 0.093537,
     "end_time": "2020-09-22T16:07:51.703604",
     "exception": false,
     "start_time": "2020-09-22T16:07:51.610067",
     "status": "completed"
    },
    "tags": []
   },
   "outputs": [
    {
     "data": {
      "text/html": [
       "<div>\n",
       "<style scoped>\n",
       "    .dataframe tbody tr th:only-of-type {\n",
       "        vertical-align: middle;\n",
       "    }\n",
       "\n",
       "    .dataframe tbody tr th {\n",
       "        vertical-align: top;\n",
       "    }\n",
       "\n",
       "    .dataframe thead th {\n",
       "        text-align: right;\n",
       "    }\n",
       "</style>\n",
       "<table border=\"1\" class=\"dataframe\">\n",
       "  <thead>\n",
       "    <tr style=\"text-align: right;\">\n",
       "      <th></th>\n",
       "      <th>Missing</th>\n",
       "      <th>All</th>\n",
       "    </tr>\n",
       "  </thead>\n",
       "  <tbody>\n",
       "    <tr>\n",
       "      <th>id</th>\n",
       "      <td>0</td>\n",
       "      <td>117703</td>\n",
       "    </tr>\n",
       "    <tr>\n",
       "      <th>url</th>\n",
       "      <td>0</td>\n",
       "      <td>117703</td>\n",
       "    </tr>\n",
       "  </tbody>\n",
       "</table>\n",
       "</div>"
      ],
      "text/plain": [
       "     Missing     All\n",
       "id         0  117703\n",
       "url        0  117703"
      ]
     },
     "execution_count": 9,
     "metadata": {},
     "output_type": "execute_result"
    }
   ],
   "source": [
    "# missing data in training data set\n",
    "missing = test_df.isnull().sum()\n",
    "all_val = test_df.count()\n",
    "\n",
    "missing_test_df = pd.concat([missing, all_val], axis=1, keys=['Missing', 'All'])\n",
    "missing_test_df"
   ]
  },
  {
   "cell_type": "code",
   "execution_count": 10,
   "metadata": {
    "execution": {
     "iopub.execute_input": "2020-09-22T16:07:51.785011Z",
     "iopub.status.busy": "2020-09-22T16:07:51.784139Z",
     "iopub.status.idle": "2020-09-22T16:07:52.651722Z",
     "shell.execute_reply": "2020-09-22T16:07:52.651139Z"
    },
    "papermill": {
     "duration": 0.904338,
     "end_time": "2020-09-22T16:07:52.651827",
     "exception": false,
     "start_time": "2020-09-22T16:07:51.747489",
     "status": "completed"
    },
    "tags": []
   },
   "outputs": [
    {
     "data": {
      "text/plain": [
       "id             1225029\n",
       "url            1225029\n",
       "landmark_id      14951\n",
       "dtype: int64"
      ]
     },
     "execution_count": 10,
     "metadata": {},
     "output_type": "execute_result"
    }
   ],
   "source": [
    "train_df.nunique()"
   ]
  },
  {
   "cell_type": "code",
   "execution_count": 11,
   "metadata": {
    "execution": {
     "iopub.execute_input": "2020-09-22T16:07:52.718777Z",
     "iopub.status.busy": "2020-09-22T16:07:52.718159Z",
     "iopub.status.idle": "2020-09-22T16:07:52.848639Z",
     "shell.execute_reply": "2020-09-22T16:07:52.848002Z"
    },
    "papermill": {
     "duration": 0.167439,
     "end_time": "2020-09-22T16:07:52.848752",
     "exception": false,
     "start_time": "2020-09-22T16:07:52.681313",
     "status": "completed"
    },
    "tags": []
   },
   "outputs": [
    {
     "data": {
      "text/plain": [
       "id     117703\n",
       "url    117703\n",
       "dtype: int64"
      ]
     },
     "execution_count": 11,
     "metadata": {},
     "output_type": "execute_result"
    }
   ],
   "source": [
    "test_df.nunique()"
   ]
  },
  {
   "cell_type": "code",
   "execution_count": 12,
   "metadata": {
    "execution": {
     "iopub.execute_input": "2020-09-22T16:07:52.911533Z",
     "iopub.status.busy": "2020-09-22T16:07:52.910464Z",
     "iopub.status.idle": "2020-09-22T16:07:52.983776Z",
     "shell.execute_reply": "2020-09-22T16:07:52.984194Z"
    },
    "papermill": {
     "duration": 0.107029,
     "end_time": "2020-09-22T16:07:52.984342",
     "exception": false,
     "start_time": "2020-09-22T16:07:52.877313",
     "status": "completed"
    },
    "tags": []
   },
   "outputs": [
    {
     "data": {
      "text/plain": [
       "(1342732, 3)"
      ]
     },
     "execution_count": 12,
     "metadata": {},
     "output_type": "execute_result"
    }
   ],
   "source": [
    "# concatenate train and test datasets\n",
    "concatenated = pd.concat([train_df, test_df])\n",
    "# print the shape of the resulted data.frame\n",
    "concatenated.shape"
   ]
  },
  {
   "cell_type": "code",
   "execution_count": 13,
   "metadata": {
    "execution": {
     "iopub.execute_input": "2020-09-22T16:07:53.105068Z",
     "iopub.status.busy": "2020-09-22T16:07:53.104052Z",
     "iopub.status.idle": "2020-09-22T16:07:54.052672Z",
     "shell.execute_reply": "2020-09-22T16:07:54.052188Z"
    },
    "papermill": {
     "duration": 1.039394,
     "end_time": "2020-09-22T16:07:54.052788",
     "exception": false,
     "start_time": "2020-09-22T16:07:53.013394",
     "status": "completed"
    },
    "tags": []
   },
   "outputs": [
    {
     "data": {
      "text/plain": [
       "id             1342732\n",
       "url            1342732\n",
       "landmark_id      14951\n",
       "dtype: int64"
      ]
     },
     "execution_count": 13,
     "metadata": {},
     "output_type": "execute_result"
    }
   ],
   "source": [
    "concatenated.nunique()"
   ]
  },
  {
   "cell_type": "code",
   "execution_count": 14,
   "metadata": {
    "execution": {
     "iopub.execute_input": "2020-09-22T16:07:54.117352Z",
     "iopub.status.busy": "2020-09-22T16:07:54.116730Z",
     "iopub.status.idle": "2020-09-22T16:07:54.542019Z",
     "shell.execute_reply": "2020-09-22T16:07:54.542528Z"
    },
    "papermill": {
     "duration": 0.459747,
     "end_time": "2020-09-22T16:07:54.542670",
     "exception": false,
     "start_time": "2020-09-22T16:07:54.082923",
     "status": "completed"
    },
    "tags": []
   },
   "outputs": [
    {
     "data": {
      "image/png": "[encoded data removed]",
      "text/plain": [
       "<Figure size 576x576 with 1 Axes>"
      ]
     },
     "metadata": {
      "needs_background": "light"
     },
     "output_type": "display_data"
    }
   ],
   "source": [
    "plt.figure(figsize = (8, 8))\n",
    "plt.title('Landmark id density plot')\n",
    "sns.kdeplot(train_df['landmark_id'], color=\"tomato\", shade=True)\n",
    "plt.show()"
   ]
  },
  {
   "cell_type": "code",
   "execution_count": 15,
   "metadata": {
    "execution": {
     "iopub.execute_input": "2020-09-22T16:07:54.606427Z",
     "iopub.status.busy": "2020-09-22T16:07:54.605834Z",
     "iopub.status.idle": "2020-09-22T16:07:55.128659Z",
     "shell.execute_reply": "2020-09-22T16:07:55.129100Z"
    },
    "papermill": {
     "duration": 0.556189,
     "end_time": "2020-09-22T16:07:55.129248",
     "exception": false,
     "start_time": "2020-09-22T16:07:54.573059",
     "status": "completed"
    },
    "tags": []
   },
   "outputs": [
    {
     "data": {
      "image/png": "[encoded data removed]",
      "text/plain": [
       "<Figure size 576x576 with 1 Axes>"
      ]
     },
     "metadata": {
      "needs_background": "light"
     },
     "output_type": "display_data"
    }
   ],
   "source": [
    "plt.figure(figsize = (8, 8))\n",
    "plt.title('Landmark id distribuition and density plot')\n",
    "sns.distplot(train_df['landmark_id'],color='green', kde=True,bins=100)\n",
    "plt.show()"
   ]
  },
  {
   "cell_type": "code",
   "execution_count": 16,
   "metadata": {
    "execution": {
     "iopub.execute_input": "2020-09-22T16:07:55.196003Z",
     "iopub.status.busy": "2020-09-22T16:07:55.195436Z",
     "iopub.status.idle": "2020-09-22T16:07:55.218879Z",
     "shell.execute_reply": "2020-09-22T16:07:55.219356Z"
    },
    "papermill": {
     "duration": 0.058486,
     "end_time": "2020-09-22T16:07:55.219501",
     "exception": false,
     "start_time": "2020-09-22T16:07:55.161015",
     "status": "completed"
    },
    "tags": []
   },
   "outputs": [
    {
     "data": {
      "text/html": [
       "<div>\n",
       "<style scoped>\n",
       "    .dataframe tbody tr th:only-of-type {\n",
       "        vertical-align: middle;\n",
       "    }\n",
       "\n",
       "    .dataframe tbody tr th {\n",
       "        vertical-align: top;\n",
       "    }\n",
       "\n",
       "    .dataframe thead th {\n",
       "        text-align: right;\n",
       "    }\n",
       "</style>\n",
       "<table border=\"1\" class=\"dataframe\">\n",
       "  <thead>\n",
       "    <tr style=\"text-align: right;\">\n",
       "      <th></th>\n",
       "      <th>landmark_id</th>\n",
       "      <th>count</th>\n",
       "    </tr>\n",
       "  </thead>\n",
       "  <tbody>\n",
       "    <tr>\n",
       "      <th>0</th>\n",
       "      <td>9633</td>\n",
       "      <td>50337</td>\n",
       "    </tr>\n",
       "    <tr>\n",
       "      <th>1</th>\n",
       "      <td>6051</td>\n",
       "      <td>50148</td>\n",
       "    </tr>\n",
       "    <tr>\n",
       "      <th>2</th>\n",
       "      <td>6599</td>\n",
       "      <td>23415</td>\n",
       "    </tr>\n",
       "    <tr>\n",
       "      <th>3</th>\n",
       "      <td>9779</td>\n",
       "      <td>18471</td>\n",
       "    </tr>\n",
       "    <tr>\n",
       "      <th>4</th>\n",
       "      <td>2061</td>\n",
       "      <td>13271</td>\n",
       "    </tr>\n",
       "    <tr>\n",
       "      <th>5</th>\n",
       "      <td>5554</td>\n",
       "      <td>11147</td>\n",
       "    </tr>\n",
       "    <tr>\n",
       "      <th>6</th>\n",
       "      <td>6651</td>\n",
       "      <td>9508</td>\n",
       "    </tr>\n",
       "    <tr>\n",
       "      <th>7</th>\n",
       "      <td>6696</td>\n",
       "      <td>9222</td>\n",
       "    </tr>\n",
       "    <tr>\n",
       "      <th>8</th>\n",
       "      <td>5376</td>\n",
       "      <td>9216</td>\n",
       "    </tr>\n",
       "    <tr>\n",
       "      <th>9</th>\n",
       "      <td>2743</td>\n",
       "      <td>8997</td>\n",
       "    </tr>\n",
       "  </tbody>\n",
       "</table>\n",
       "</div>"
      ],
      "text/plain": [
       "   landmark_id  count\n",
       "0         9633  50337\n",
       "1         6051  50148\n",
       "2         6599  23415\n",
       "3         9779  18471\n",
       "4         2061  13271\n",
       "5         5554  11147\n",
       "6         6651   9508\n",
       "7         6696   9222\n",
       "8         5376   9216\n",
       "9         2743   8997"
      ]
     },
     "execution_count": 16,
     "metadata": {},
     "output_type": "execute_result"
    }
   ],
   "source": [
    "th10 = pd.DataFrame(train_df.landmark_id.value_counts().head(10))\n",
    "th10.reset_index(level=0, inplace=True)\n",
    "th10.columns = ['landmark_id','count']\n",
    "th10"
   ]
  },
  {
   "cell_type": "code",
   "execution_count": 17,
   "metadata": {
    "execution": {
     "iopub.execute_input": "2020-09-22T16:07:55.292707Z",
     "iopub.status.busy": "2020-09-22T16:07:55.287966Z",
     "iopub.status.idle": "2020-09-22T16:07:55.439797Z",
     "shell.execute_reply": "2020-09-22T16:07:55.439217Z"
    },
    "papermill": {
     "duration": 0.188876,
     "end_time": "2020-09-22T16:07:55.439908",
     "exception": false,
     "start_time": "2020-09-22T16:07:55.251032",
     "status": "completed"
    },
    "tags": []
   },
   "outputs": [
    {
     "data": {
      "image/png": "[encoded data removed]",
      "text/plain": [
       "<Figure size 432x432 with 1 Axes>"
      ]
     },
     "metadata": {
      "needs_background": "light"
     },
     "output_type": "display_data"
    }
   ],
   "source": [
    "# Plot the most frequent landmark occurences\n",
    "plt.figure(figsize = (6, 6))\n",
    "plt.title('Most frequent landmarks')\n",
    "sns.set_color_codes(\"pastel\")\n",
    "sns.barplot(x=\"landmark_id\", y=\"count\", data=th10,\n",
    "            label=\"Count\", color=\"darkgreen\")\n",
    "plt.show()"
   ]
  },
  {
   "cell_type": "code",
   "execution_count": 18,
   "metadata": {
    "execution": {
     "iopub.execute_input": "2020-09-22T16:07:55.513632Z",
     "iopub.status.busy": "2020-09-22T16:07:55.512992Z",
     "iopub.status.idle": "2020-09-22T16:07:55.547418Z",
     "shell.execute_reply": "2020-09-22T16:07:55.546410Z"
    },
    "papermill": {
     "duration": 0.074376,
     "end_time": "2020-09-22T16:07:55.547537",
     "exception": false,
     "start_time": "2020-09-22T16:07:55.473161",
     "status": "completed"
    },
    "tags": []
   },
   "outputs": [
    {
     "data": {
      "text/html": [
       "<div>\n",
       "<style scoped>\n",
       "    .dataframe tbody tr th:only-of-type {\n",
       "        vertical-align: middle;\n",
       "    }\n",
       "\n",
       "    .dataframe tbody tr th {\n",
       "        vertical-align: top;\n",
       "    }\n",
       "\n",
       "    .dataframe thead th {\n",
       "        text-align: right;\n",
       "    }\n",
       "</style>\n",
       "<table border=\"1\" class=\"dataframe\">\n",
       "  <thead>\n",
       "    <tr style=\"text-align: right;\">\n",
       "      <th></th>\n",
       "      <th>landmark_id</th>\n",
       "      <th>count</th>\n",
       "    </tr>\n",
       "  </thead>\n",
       "  <tbody>\n",
       "    <tr>\n",
       "      <th>0</th>\n",
       "      <td>10007</td>\n",
       "      <td>1</td>\n",
       "    </tr>\n",
       "    <tr>\n",
       "      <th>1</th>\n",
       "      <td>2683</td>\n",
       "      <td>1</td>\n",
       "    </tr>\n",
       "    <tr>\n",
       "      <th>2</th>\n",
       "      <td>4753</td>\n",
       "      <td>1</td>\n",
       "    </tr>\n",
       "    <tr>\n",
       "      <th>3</th>\n",
       "      <td>6261</td>\n",
       "      <td>1</td>\n",
       "    </tr>\n",
       "    <tr>\n",
       "      <th>4</th>\n",
       "      <td>4144</td>\n",
       "      <td>1</td>\n",
       "    </tr>\n",
       "    <tr>\n",
       "      <th>5</th>\n",
       "      <td>1527</td>\n",
       "      <td>1</td>\n",
       "    </tr>\n",
       "    <tr>\n",
       "      <th>6</th>\n",
       "      <td>6025</td>\n",
       "      <td>1</td>\n",
       "    </tr>\n",
       "    <tr>\n",
       "      <th>7</th>\n",
       "      <td>4334</td>\n",
       "      <td>1</td>\n",
       "    </tr>\n",
       "    <tr>\n",
       "      <th>8</th>\n",
       "      <td>5865</td>\n",
       "      <td>1</td>\n",
       "    </tr>\n",
       "    <tr>\n",
       "      <th>9</th>\n",
       "      <td>8381</td>\n",
       "      <td>1</td>\n",
       "    </tr>\n",
       "  </tbody>\n",
       "</table>\n",
       "</div>"
      ],
      "text/plain": [
       "   landmark_id  count\n",
       "0        10007      1\n",
       "1         2683      1\n",
       "2         4753      1\n",
       "3         6261      1\n",
       "4         4144      1\n",
       "5         1527      1\n",
       "6         6025      1\n",
       "7         4334      1\n",
       "8         5865      1\n",
       "9         8381      1"
      ]
     },
     "execution_count": 18,
     "metadata": {},
     "output_type": "execute_result"
    }
   ],
   "source": [
    "tb10 = pd.DataFrame(train_df.landmark_id.value_counts().tail(10))\n",
    "tb10.reset_index(level=0, inplace=True)\n",
    "tb10.columns = ['landmark_id','count']\n",
    "tb10"
   ]
  },
  {
   "cell_type": "code",
   "execution_count": 19,
   "metadata": {
    "execution": {
     "iopub.execute_input": "2020-09-22T16:07:55.701249Z",
     "iopub.status.busy": "2020-09-22T16:07:55.623718Z",
     "iopub.status.idle": "2020-09-22T16:07:55.843116Z",
     "shell.execute_reply": "2020-09-22T16:07:55.842659Z"
    },
    "papermill": {
     "duration": 0.262716,
     "end_time": "2020-09-22T16:07:55.843234",
     "exception": false,
     "start_time": "2020-09-22T16:07:55.580518",
     "status": "completed"
    },
    "tags": []
   },
   "outputs": [
    {
     "data": {
      "image/png": "[encoded data removed]",
      "text/plain": [
       "<Figure size 432x432 with 1 Axes>"
      ]
     },
     "metadata": {
      "needs_background": "light"
     },
     "output_type": "display_data"
    }
   ],
   "source": [
    "# Plot the least frequent landmark occurences\n",
    "plt.figure(figsize = (6,6))\n",
    "plt.title('Least frequent landmarks')\n",
    "sns.set_color_codes(\"pastel\")\n",
    "sns.barplot(x=\"landmark_id\", y=\"count\", data=tb10,\n",
    "            label=\"Count\", color=\"orange\")\n",
    "plt.show()"
   ]
  },
  {
   "cell_type": "code",
   "execution_count": 20,
   "metadata": {
    "execution": {
     "iopub.execute_input": "2020-09-22T16:07:55.941446Z",
     "iopub.status.busy": "2020-09-22T16:07:55.930955Z",
     "iopub.status.idle": "2020-09-22T16:07:56.969659Z",
     "shell.execute_reply": "2020-09-22T16:07:56.970560Z"
    },
    "papermill": {
     "duration": 1.093824,
     "end_time": "2020-09-22T16:07:56.970700",
     "exception": false,
     "start_time": "2020-09-22T16:07:55.876876",
     "status": "completed"
    },
    "tags": []
   },
   "outputs": [],
   "source": [
    "# Extract repositories names for train data\n",
    "ll = list()\n",
    "for path in train_df['url']:\n",
    "    ll.append((path.split('//', 1)[1]).split('/', 1)[0])\n",
    "train_df['site'] = ll\n",
    "# Extract repositories names for test data\n",
    "ll = list()\n",
    "for path in test_df['url']:\n",
    "    ll.append((path.split('//', 1)[1]).split('/', 1)[0])\n",
    "test_df['site'] = ll"
   ]
  },
  {
   "cell_type": "code",
   "execution_count": 21,
   "metadata": {
    "execution": {
     "iopub.execute_input": "2020-09-22T16:07:57.046218Z",
     "iopub.status.busy": "2020-09-22T16:07:57.045286Z",
     "iopub.status.idle": "2020-09-22T16:07:57.049419Z",
     "shell.execute_reply": "2020-09-22T16:07:57.049930Z"
    },
    "papermill": {
     "duration": 0.044053,
     "end_time": "2020-09-22T16:07:57.050058",
     "exception": false,
     "start_time": "2020-09-22T16:07:57.006005",
     "status": "completed"
    },
    "tags": []
   },
   "outputs": [
    {
     "name": "stdout",
     "output_type": "stream",
     "text": [
      "Train data shape -  rows: 1225029  columns: 4\n",
      "Test data size -  rows: 117703  columns: 3\n"
     ]
    }
   ],
   "source": [
    "print(\"Train data shape -  rows:\",train_df.shape[0],\" columns:\", train_df.shape[1])\n",
    "print(\"Test data size -  rows:\",test_df.shape[0],\" columns:\", test_df.shape[1])"
   ]
  },
  {
   "cell_type": "code",
   "execution_count": 22,
   "metadata": {
    "execution": {
     "iopub.execute_input": "2020-09-22T16:07:57.132427Z",
     "iopub.status.busy": "2020-09-22T16:07:57.131551Z",
     "iopub.status.idle": "2020-09-22T16:07:57.135253Z",
     "shell.execute_reply": "2020-09-22T16:07:57.135691Z"
    },
    "papermill": {
     "duration": 0.05133,
     "end_time": "2020-09-22T16:07:57.135831",
     "exception": false,
     "start_time": "2020-09-22T16:07:57.084501",
     "status": "completed"
    },
    "tags": []
   },
   "outputs": [
    {
     "data": {
      "text/html": [
       "<div>\n",
       "<style scoped>\n",
       "    .dataframe tbody tr th:only-of-type {\n",
       "        vertical-align: middle;\n",
       "    }\n",
       "\n",
       "    .dataframe tbody tr th {\n",
       "        vertical-align: top;\n",
       "    }\n",
       "\n",
       "    .dataframe thead th {\n",
       "        text-align: right;\n",
       "    }\n",
       "</style>\n",
       "<table border=\"1\" class=\"dataframe\">\n",
       "  <thead>\n",
       "    <tr style=\"text-align: right;\">\n",
       "      <th></th>\n",
       "      <th>id</th>\n",
       "      <th>url</th>\n",
       "      <th>landmark_id</th>\n",
       "      <th>site</th>\n",
       "    </tr>\n",
       "  </thead>\n",
       "  <tbody>\n",
       "    <tr>\n",
       "      <th>0</th>\n",
       "      <td>cacf8152e2d2ae60</td>\n",
       "      <td>http://static.panoramio.com/photos/original/70...</td>\n",
       "      <td>4676</td>\n",
       "      <td>static.panoramio.com</td>\n",
       "    </tr>\n",
       "    <tr>\n",
       "      <th>1</th>\n",
       "      <td>0a58358a2afd3e4e</td>\n",
       "      <td>http://lh6.ggpht.com/-igpT6wu0mIA/ROV8HnUuABI/...</td>\n",
       "      <td>6651</td>\n",
       "      <td>lh6.ggpht.com</td>\n",
       "    </tr>\n",
       "    <tr>\n",
       "      <th>2</th>\n",
       "      <td>6b2bb500b6a38aa0</td>\n",
       "      <td>http://lh6.ggpht.com/-vKr5G5MEusk/SR6r6SJi6mI/...</td>\n",
       "      <td>11284</td>\n",
       "      <td>lh6.ggpht.com</td>\n",
       "    </tr>\n",
       "    <tr>\n",
       "      <th>3</th>\n",
       "      <td>b399f09dee9c3c67</td>\n",
       "      <td>https://lh3.googleusercontent.com/-LOW2cjAqubA...</td>\n",
       "      <td>8429</td>\n",
       "      <td>lh3.googleusercontent.com</td>\n",
       "    </tr>\n",
       "    <tr>\n",
       "      <th>4</th>\n",
       "      <td>19ace29d77a5be66</td>\n",
       "      <td>https://lh5.googleusercontent.com/-tnmSXwQcWL8...</td>\n",
       "      <td>6231</td>\n",
       "      <td>lh5.googleusercontent.com</td>\n",
       "    </tr>\n",
       "  </tbody>\n",
       "</table>\n",
       "</div>"
      ],
      "text/plain": [
       "                 id                                                url  \\\n",
       "0  cacf8152e2d2ae60  http://static.panoramio.com/photos/original/70...   \n",
       "1  0a58358a2afd3e4e  http://lh6.ggpht.com/-igpT6wu0mIA/ROV8HnUuABI/...   \n",
       "2  6b2bb500b6a38aa0  http://lh6.ggpht.com/-vKr5G5MEusk/SR6r6SJi6mI/...   \n",
       "3  b399f09dee9c3c67  https://lh3.googleusercontent.com/-LOW2cjAqubA...   \n",
       "4  19ace29d77a5be66  https://lh5.googleusercontent.com/-tnmSXwQcWL8...   \n",
       "\n",
       "   landmark_id                       site  \n",
       "0         4676       static.panoramio.com  \n",
       "1         6651              lh6.ggpht.com  \n",
       "2        11284              lh6.ggpht.com  \n",
       "3         8429  lh3.googleusercontent.com  \n",
       "4         6231  lh5.googleusercontent.com  "
      ]
     },
     "execution_count": 22,
     "metadata": {},
     "output_type": "execute_result"
    }
   ],
   "source": [
    "train_df.head()"
   ]
  },
  {
   "cell_type": "code",
   "execution_count": 23,
   "metadata": {
    "execution": {
     "iopub.execute_input": "2020-09-22T16:07:57.210621Z",
     "iopub.status.busy": "2020-09-22T16:07:57.209653Z",
     "iopub.status.idle": "2020-09-22T16:07:57.219347Z",
     "shell.execute_reply": "2020-09-22T16:07:57.219753Z"
    },
    "papermill": {
     "duration": 0.048526,
     "end_time": "2020-09-22T16:07:57.219897",
     "exception": false,
     "start_time": "2020-09-22T16:07:57.171371",
     "status": "completed"
    },
    "tags": []
   },
   "outputs": [
    {
     "data": {
      "text/html": [
       "<div>\n",
       "<style scoped>\n",
       "    .dataframe tbody tr th:only-of-type {\n",
       "        vertical-align: middle;\n",
       "    }\n",
       "\n",
       "    .dataframe tbody tr th {\n",
       "        vertical-align: top;\n",
       "    }\n",
       "\n",
       "    .dataframe thead th {\n",
       "        text-align: right;\n",
       "    }\n",
       "</style>\n",
       "<table border=\"1\" class=\"dataframe\">\n",
       "  <thead>\n",
       "    <tr style=\"text-align: right;\">\n",
       "      <th></th>\n",
       "      <th>id</th>\n",
       "      <th>url</th>\n",
       "      <th>site</th>\n",
       "    </tr>\n",
       "  </thead>\n",
       "  <tbody>\n",
       "    <tr>\n",
       "      <th>0</th>\n",
       "      <td>000088da12d664db</td>\n",
       "      <td>https://lh3.googleusercontent.com/-k45wfamuhT8...</td>\n",
       "      <td>lh3.googleusercontent.com</td>\n",
       "    </tr>\n",
       "    <tr>\n",
       "      <th>1</th>\n",
       "      <td>0001623c6d808702</td>\n",
       "      <td>https://lh3.googleusercontent.com/-OQ0ywv8KVIA...</td>\n",
       "      <td>lh3.googleusercontent.com</td>\n",
       "    </tr>\n",
       "    <tr>\n",
       "      <th>2</th>\n",
       "      <td>0001bbb682d45002</td>\n",
       "      <td>https://lh3.googleusercontent.com/-kloLenz1xZk...</td>\n",
       "      <td>lh3.googleusercontent.com</td>\n",
       "    </tr>\n",
       "    <tr>\n",
       "      <th>3</th>\n",
       "      <td>0002362830cfe3a3</td>\n",
       "      <td>https://lh3.googleusercontent.com/-N6z79jNZYTg...</td>\n",
       "      <td>lh3.googleusercontent.com</td>\n",
       "    </tr>\n",
       "    <tr>\n",
       "      <th>4</th>\n",
       "      <td>000270c9100de789</td>\n",
       "      <td>https://lh3.googleusercontent.com/-keriHaVOq1U...</td>\n",
       "      <td>lh3.googleusercontent.com</td>\n",
       "    </tr>\n",
       "  </tbody>\n",
       "</table>\n",
       "</div>"
      ],
      "text/plain": [
       "                 id                                                url  \\\n",
       "0  000088da12d664db  https://lh3.googleusercontent.com/-k45wfamuhT8...   \n",
       "1  0001623c6d808702  https://lh3.googleusercontent.com/-OQ0ywv8KVIA...   \n",
       "2  0001bbb682d45002  https://lh3.googleusercontent.com/-kloLenz1xZk...   \n",
       "3  0002362830cfe3a3  https://lh3.googleusercontent.com/-N6z79jNZYTg...   \n",
       "4  000270c9100de789  https://lh3.googleusercontent.com/-keriHaVOq1U...   \n",
       "\n",
       "                        site  \n",
       "0  lh3.googleusercontent.com  \n",
       "1  lh3.googleusercontent.com  \n",
       "2  lh3.googleusercontent.com  \n",
       "3  lh3.googleusercontent.com  \n",
       "4  lh3.googleusercontent.com  "
      ]
     },
     "execution_count": 23,
     "metadata": {},
     "output_type": "execute_result"
    }
   ],
   "source": [
    "test_df.head()"
   ]
  },
  {
   "cell_type": "code",
   "execution_count": 24,
   "metadata": {
    "execution": {
     "iopub.execute_input": "2020-09-22T16:07:57.294487Z",
     "iopub.status.busy": "2020-09-22T16:07:57.293612Z",
     "iopub.status.idle": "2020-09-22T16:07:57.477487Z",
     "shell.execute_reply": "2020-09-22T16:07:57.477898Z"
    },
    "papermill": {
     "duration": 0.222399,
     "end_time": "2020-09-22T16:07:57.478040",
     "exception": false,
     "start_time": "2020-09-22T16:07:57.255641",
     "status": "completed"
    },
    "tags": []
   },
   "outputs": [],
   "source": [
    "train_site = pd.DataFrame(train_df.site.value_counts())\n",
    "test_site = pd.DataFrame(test_df.site.value_counts())"
   ]
  },
  {
   "cell_type": "code",
   "execution_count": 25,
   "metadata": {
    "execution": {
     "iopub.execute_input": "2020-09-22T16:07:57.551212Z",
     "iopub.status.busy": "2020-09-22T16:07:57.550371Z",
     "iopub.status.idle": "2020-09-22T16:07:57.558707Z",
     "shell.execute_reply": "2020-09-22T16:07:57.559145Z"
    },
    "papermill": {
     "duration": 0.046438,
     "end_time": "2020-09-22T16:07:57.559276",
     "exception": false,
     "start_time": "2020-09-22T16:07:57.512838",
     "status": "completed"
    },
    "tags": []
   },
   "outputs": [
    {
     "data": {
      "text/html": [
       "<div>\n",
       "<style scoped>\n",
       "    .dataframe tbody tr th:only-of-type {\n",
       "        vertical-align: middle;\n",
       "    }\n",
       "\n",
       "    .dataframe tbody tr th {\n",
       "        vertical-align: top;\n",
       "    }\n",
       "\n",
       "    .dataframe thead th {\n",
       "        text-align: right;\n",
       "    }\n",
       "</style>\n",
       "<table border=\"1\" class=\"dataframe\">\n",
       "  <thead>\n",
       "    <tr style=\"text-align: right;\">\n",
       "      <th></th>\n",
       "      <th>site</th>\n",
       "    </tr>\n",
       "  </thead>\n",
       "  <tbody>\n",
       "    <tr>\n",
       "      <th>lh3.googleusercontent.com</th>\n",
       "      <td>182010</td>\n",
       "    </tr>\n",
       "    <tr>\n",
       "      <th>lh4.googleusercontent.com</th>\n",
       "      <td>177774</td>\n",
       "    </tr>\n",
       "    <tr>\n",
       "      <th>lh5.googleusercontent.com</th>\n",
       "      <td>175251</td>\n",
       "    </tr>\n",
       "    <tr>\n",
       "      <th>lh6.googleusercontent.com</th>\n",
       "      <td>171506</td>\n",
       "    </tr>\n",
       "    <tr>\n",
       "      <th>lh3.ggpht.com</th>\n",
       "      <td>105043</td>\n",
       "    </tr>\n",
       "    <tr>\n",
       "      <th>lh4.ggpht.com</th>\n",
       "      <td>102460</td>\n",
       "    </tr>\n",
       "    <tr>\n",
       "      <th>lh6.ggpht.com</th>\n",
       "      <td>102066</td>\n",
       "    </tr>\n",
       "    <tr>\n",
       "      <th>lh5.ggpht.com</th>\n",
       "      <td>100905</td>\n",
       "    </tr>\n",
       "    <tr>\n",
       "      <th>mw2.google.com</th>\n",
       "      <td>94947</td>\n",
       "    </tr>\n",
       "    <tr>\n",
       "      <th>static.panoramio.com</th>\n",
       "      <td>12468</td>\n",
       "    </tr>\n",
       "    <tr>\n",
       "      <th>commondatastorage.googleapis.com</th>\n",
       "      <td>591</td>\n",
       "    </tr>\n",
       "    <tr>\n",
       "      <th>1-ps.googleusercontent.com</th>\n",
       "      <td>3</td>\n",
       "    </tr>\n",
       "    <tr>\n",
       "      <th>0-focus-opensocial.googleusercontent.com</th>\n",
       "      <td>2</td>\n",
       "    </tr>\n",
       "    <tr>\n",
       "      <th>celebhot.hol.es</th>\n",
       "      <td>1</td>\n",
       "    </tr>\n",
       "    <tr>\n",
       "      <th>r2.bru02t11.c.bigcache.googleapis.com</th>\n",
       "      <td>1</td>\n",
       "    </tr>\n",
       "    <tr>\n",
       "      <th>image.imagesexplore.info</th>\n",
       "      <td>1</td>\n",
       "    </tr>\n",
       "  </tbody>\n",
       "</table>\n",
       "</div>"
      ],
      "text/plain": [
       "                                            site\n",
       "lh3.googleusercontent.com                 182010\n",
       "lh4.googleusercontent.com                 177774\n",
       "lh5.googleusercontent.com                 175251\n",
       "lh6.googleusercontent.com                 171506\n",
       "lh3.ggpht.com                             105043\n",
       "lh4.ggpht.com                             102460\n",
       "lh6.ggpht.com                             102066\n",
       "lh5.ggpht.com                             100905\n",
       "mw2.google.com                             94947\n",
       "static.panoramio.com                       12468\n",
       "commondatastorage.googleapis.com             591\n",
       "1-ps.googleusercontent.com                     3\n",
       "0-focus-opensocial.googleusercontent.com       2\n",
       "celebhot.hol.es                                1\n",
       "r2.bru02t11.c.bigcache.googleapis.com          1\n",
       "image.imagesexplore.info                       1"
      ]
     },
     "execution_count": 25,
     "metadata": {},
     "output_type": "execute_result"
    }
   ],
   "source": [
    "train_site"
   ]
  },
  {
   "cell_type": "code",
   "execution_count": 26,
   "metadata": {
    "execution": {
     "iopub.execute_input": "2020-09-22T16:07:57.634823Z",
     "iopub.status.busy": "2020-09-22T16:07:57.633949Z",
     "iopub.status.idle": "2020-09-22T16:07:57.871110Z",
     "shell.execute_reply": "2020-09-22T16:07:57.871641Z"
    },
    "papermill": {
     "duration": 0.276298,
     "end_time": "2020-09-22T16:07:57.871791",
     "exception": false,
     "start_time": "2020-09-22T16:07:57.595493",
     "status": "completed"
    },
    "tags": []
   },
   "outputs": [
    {
     "data": {
      "image/png": "[encoded data removed]",
      "text/plain": [
       "<Figure size 432x432 with 1 Axes>"
      ]
     },
     "metadata": {
      "needs_background": "light"
     },
     "output_type": "display_data"
    }
   ],
   "source": [
    "trsite = pd.DataFrame(list(train_site.index),train_site['site'])\n",
    "trsite.reset_index(level=0, inplace=True)\n",
    "trsite.columns = ['count','site']\n",
    "plt.figure(figsize = (6,6))\n",
    "plt.title('Sites storing images - train dataset')\n",
    "sns.set_color_codes(\"pastel\")\n",
    "sns.barplot(x = 'site', y=\"count\", data=trsite, color=\"blue\")\n",
    "locs, labels = plt.xticks()\n",
    "plt.setp(labels, rotation=90)\n",
    "plt.show()"
   ]
  },
  {
   "cell_type": "code",
   "execution_count": 27,
   "metadata": {
    "execution": {
     "iopub.execute_input": "2020-09-22T16:07:57.956140Z",
     "iopub.status.busy": "2020-09-22T16:07:57.955216Z",
     "iopub.status.idle": "2020-09-22T16:07:57.958783Z",
     "shell.execute_reply": "2020-09-22T16:07:57.959299Z"
    },
    "papermill": {
     "duration": 0.050809,
     "end_time": "2020-09-22T16:07:57.959440",
     "exception": false,
     "start_time": "2020-09-22T16:07:57.908631",
     "status": "completed"
    },
    "tags": []
   },
   "outputs": [
    {
     "data": {
      "text/html": [
       "<div>\n",
       "<style scoped>\n",
       "    .dataframe tbody tr th:only-of-type {\n",
       "        vertical-align: middle;\n",
       "    }\n",
       "\n",
       "    .dataframe tbody tr th {\n",
       "        vertical-align: top;\n",
       "    }\n",
       "\n",
       "    .dataframe thead th {\n",
       "        text-align: right;\n",
       "    }\n",
       "</style>\n",
       "<table border=\"1\" class=\"dataframe\">\n",
       "  <thead>\n",
       "    <tr style=\"text-align: right;\">\n",
       "      <th></th>\n",
       "      <th>site</th>\n",
       "    </tr>\n",
       "  </thead>\n",
       "  <tbody>\n",
       "    <tr>\n",
       "      <th>lh3.googleusercontent.com</th>\n",
       "      <td>116855</td>\n",
       "    </tr>\n",
       "    <tr>\n",
       "      <th>lh3.ggpht.com</th>\n",
       "      <td>166</td>\n",
       "    </tr>\n",
       "    <tr>\n",
       "      <th>lh5.ggpht.com</th>\n",
       "      <td>134</td>\n",
       "    </tr>\n",
       "    <tr>\n",
       "      <th>lh4.ggpht.com</th>\n",
       "      <td>123</td>\n",
       "    </tr>\n",
       "    <tr>\n",
       "      <th>images1-focus-opensocial.googleusercontent.com</th>\n",
       "      <td>102</td>\n",
       "    </tr>\n",
       "    <tr>\n",
       "      <th>lh6.ggpht.com</th>\n",
       "      <td>92</td>\n",
       "    </tr>\n",
       "    <tr>\n",
       "      <th>lh5.googleusercontent.com</th>\n",
       "      <td>80</td>\n",
       "    </tr>\n",
       "    <tr>\n",
       "      <th>lh4.googleusercontent.com</th>\n",
       "      <td>55</td>\n",
       "    </tr>\n",
       "    <tr>\n",
       "      <th>static.panoramio.com</th>\n",
       "      <td>47</td>\n",
       "    </tr>\n",
       "    <tr>\n",
       "      <th>lh6.googleusercontent.com</th>\n",
       "      <td>28</td>\n",
       "    </tr>\n",
       "    <tr>\n",
       "      <th>images2-focus-opensocial.googleusercontent.com</th>\n",
       "      <td>3</td>\n",
       "    </tr>\n",
       "    <tr>\n",
       "      <th>images-onepick-opensocial.googleusercontent.com</th>\n",
       "      <td>2</td>\n",
       "    </tr>\n",
       "    <tr>\n",
       "      <th>img01.rl0.ru</th>\n",
       "      <td>2</td>\n",
       "    </tr>\n",
       "    <tr>\n",
       "      <th>img06.rl0.ru</th>\n",
       "      <td>2</td>\n",
       "    </tr>\n",
       "    <tr>\n",
       "      <th>img02.rl0.ru</th>\n",
       "      <td>2</td>\n",
       "    </tr>\n",
       "    <tr>\n",
       "      <th>img08.rl0.ru</th>\n",
       "      <td>1</td>\n",
       "    </tr>\n",
       "    <tr>\n",
       "      <th>img09.rl0.ru</th>\n",
       "      <td>1</td>\n",
       "    </tr>\n",
       "    <tr>\n",
       "      <th>cdn.champbell.net</th>\n",
       "      <td>1</td>\n",
       "    </tr>\n",
       "    <tr>\n",
       "      <th>extreme.com.ua</th>\n",
       "      <td>1</td>\n",
       "    </tr>\n",
       "    <tr>\n",
       "      <th>1.bp.blogspot.com</th>\n",
       "      <td>1</td>\n",
       "    </tr>\n",
       "    <tr>\n",
       "      <th>cdn.photogyps.com</th>\n",
       "      <td>1</td>\n",
       "    </tr>\n",
       "    <tr>\n",
       "      <th>jiu-jitsu-mo.ru</th>\n",
       "      <td>1</td>\n",
       "    </tr>\n",
       "    <tr>\n",
       "      <th>images-blogger-opensocial.googleusercontent.com</th>\n",
       "      <td>1</td>\n",
       "    </tr>\n",
       "    <tr>\n",
       "      <th>a.disquscdn.com</th>\n",
       "      <td>1</td>\n",
       "    </tr>\n",
       "    <tr>\n",
       "      <th>img07.rl0.ru</th>\n",
       "      <td>1</td>\n",
       "    </tr>\n",
       "  </tbody>\n",
       "</table>\n",
       "</div>"
      ],
      "text/plain": [
       "                                                   site\n",
       "lh3.googleusercontent.com                        116855\n",
       "lh3.ggpht.com                                       166\n",
       "lh5.ggpht.com                                       134\n",
       "lh4.ggpht.com                                       123\n",
       "images1-focus-opensocial.googleusercontent.com      102\n",
       "lh6.ggpht.com                                        92\n",
       "lh5.googleusercontent.com                            80\n",
       "lh4.googleusercontent.com                            55\n",
       "static.panoramio.com                                 47\n",
       "lh6.googleusercontent.com                            28\n",
       "images2-focus-opensocial.googleusercontent.com        3\n",
       "images-onepick-opensocial.googleusercontent.com       2\n",
       "img01.rl0.ru                                          2\n",
       "img06.rl0.ru                                          2\n",
       "img02.rl0.ru                                          2\n",
       "img08.rl0.ru                                          1\n",
       "img09.rl0.ru                                          1\n",
       "cdn.champbell.net                                     1\n",
       "extreme.com.ua                                        1\n",
       "1.bp.blogspot.com                                     1\n",
       "cdn.photogyps.com                                     1\n",
       "jiu-jitsu-mo.ru                                       1\n",
       "images-blogger-opensocial.googleusercontent.com       1\n",
       "a.disquscdn.com                                       1\n",
       "img07.rl0.ru                                          1"
      ]
     },
     "execution_count": 27,
     "metadata": {},
     "output_type": "execute_result"
    }
   ],
   "source": [
    "test_site"
   ]
  },
  {
   "cell_type": "code",
   "execution_count": 28,
   "metadata": {
    "execution": {
     "iopub.execute_input": "2020-09-22T16:07:58.037560Z",
     "iopub.status.busy": "2020-09-22T16:07:58.036666Z",
     "iopub.status.idle": "2020-09-22T16:07:58.324620Z",
     "shell.execute_reply": "2020-09-22T16:07:58.325055Z"
    },
    "papermill": {
     "duration": 0.328688,
     "end_time": "2020-09-22T16:07:58.325201",
     "exception": false,
     "start_time": "2020-09-22T16:07:57.996513",
     "status": "completed"
    },
    "tags": []
   },
   "outputs": [
    {
     "data": {
      "image/png": "[encoded data removed]",
      "text/plain": [
       "<Figure size 432x432 with 1 Axes>"
      ]
     },
     "metadata": {
      "needs_background": "light"
     },
     "output_type": "display_data"
    }
   ],
   "source": [
    "tesite = pd.DataFrame(list(test_site.index),test_site['site'])\n",
    "tesite.reset_index(level=0, inplace=True)\n",
    "tesite.columns = ['count','site']\n",
    "plt.figure(figsize = (6,6))\n",
    "plt.title('Sites storing images - test dataset')\n",
    "sns.set_color_codes(\"pastel\")\n",
    "sns.barplot(x = 'site', y=\"count\", data=tesite, color=\"magenta\")\n",
    "locs, labels = plt.xticks()\n",
    "plt.setp(labels, rotation=90)\n",
    "plt.show()"
   ]
  },
  {
   "cell_type": "code",
   "execution_count": 29,
   "metadata": {
    "execution": {
     "iopub.execute_input": "2020-09-22T16:07:58.406033Z",
     "iopub.status.busy": "2020-09-22T16:07:58.405177Z",
     "iopub.status.idle": "2020-09-22T16:07:58.409953Z",
     "shell.execute_reply": "2020-09-22T16:07:58.410484Z"
    },
    "papermill": {
     "duration": 0.047552,
     "end_time": "2020-09-22T16:07:58.410614",
     "exception": false,
     "start_time": "2020-09-22T16:07:58.363062",
     "status": "completed"
    },
    "tags": []
   },
   "outputs": [],
   "source": [
    "def displayLandmark(urls, landmarkName):\n",
    "    \n",
    "    img_style = \"height: 60px; margin: 2px; float: left; border: 1px solid blue;\"\n",
    "    images_list = ''.join([f\"<img style='{img_style}' src='{u}' />\" for _, u in urls.iteritems()])\n",
    "\n",
    "    display(HTML(images_list))"
   ]
  },
  {
   "cell_type": "code",
   "execution_count": 30,
   "metadata": {
    "execution": {
     "iopub.execute_input": "2020-09-22T16:07:58.490077Z",
     "iopub.status.busy": "2020-09-22T16:07:58.489228Z",
     "iopub.status.idle": "2020-09-22T16:07:58.849064Z",
     "shell.execute_reply": "2020-09-22T16:07:58.849865Z"
    },
    "papermill": {
     "duration": 0.401547,
     "end_time": "2020-09-22T16:07:58.850009",
     "exception": false,
     "start_time": "2020-09-22T16:07:58.448462",
     "status": "completed"
    },
    "tags": []
   },
   "outputs": [
    {
     "data": {
      "text/html": [
       "<img style='height: 60px; margin: 2px; float: left; border: 1px solid blue;' src='https://lh3.googleusercontent.com/-EpNtXQntMr0/TEBZNbQVRSI/AAAAAAAAAEM/uWSSD4_7TeA/s1600/' /><img style='height: 60px; margin: 2px; float: left; border: 1px solid blue;' src='http://lh5.ggpht.com/-6Wmb6BhrgBA/RYblKeg9KwI/AAAAAAAABl4/PWvTvwiHwGw/s1600/' /><img style='height: 60px; margin: 2px; float: left; border: 1px solid blue;' src='https://lh5.googleusercontent.com/-odJcL7Yisno/SIGXefDmX3I/AAAAAAAAAVk/hyzxGJZ-kbo/s1600/' /><img style='height: 60px; margin: 2px; float: left; border: 1px solid blue;' src='http://lh4.ggpht.com/-O3g8YoEouW0/Sru6bx818zI/AAAAAAAAF04/Q1uyrne5T1E/s1600/' /><img style='height: 60px; margin: 2px; float: left; border: 1px solid blue;' src='http://lh6.ggpht.com/-amq8SzD5TvI/SvosmRqKHFI/AAAAAAAAAJw/MHAVt2TBKXo/s1600/' /><img style='height: 60px; margin: 2px; float: left; border: 1px solid blue;' src='https://lh6.googleusercontent.com/-SWKFGslUrMU/S4_Iq0oL45I/AAAAAAAABTg/pjyngCpPc1w/s1600/' /><img style='height: 60px; margin: 2px; float: left; border: 1px solid blue;' src='http://lh5.ggpht.com/-zMzoWUhpX_k/TrqWpYVRVzI/AAAAAAAAAQc/nsKpveiRWn4/s1600/' /><img style='height: 60px; margin: 2px; float: left; border: 1px solid blue;' src='https://lh6.googleusercontent.com/-ae_UPhdDKtQ/SsCyZ_qSwzI/AAAAAAAAB2g/IiONicNWCe0/s1600/' /><img style='height: 60px; margin: 2px; float: left; border: 1px solid blue;' src='http://lh5.ggpht.com/-Ljgz8iSVWQ8/SnxZv2iN-pI/AAAAAAAABKo/DHUbNk9vJ_o/s1600/' /><img style='height: 60px; margin: 2px; float: left; border: 1px solid blue;' src='https://lh5.googleusercontent.com/-3uEcnge6L0Q/TL_9cXOMVgI/AAAAAAAAAFg/Rd3843Yq0Ko/s1600/' /><img style='height: 60px; margin: 2px; float: left; border: 1px solid blue;' src='https://lh4.googleusercontent.com/-VNhZp05p3HA/UO7J7Qd4lJI/AAAAAAAAH9Q/vCWCCsPtslg/s1600/' /><img style='height: 60px; margin: 2px; float: left; border: 1px solid blue;' src='http://lh4.ggpht.com/-2_IazExfUUg/RjJhAXWo8pI/AAAAAAAAFIM/R53dgGda2Yc/s1600/' /><img style='height: 60px; margin: 2px; float: left; border: 1px solid blue;' src='http://lh5.ggpht.com/-hxZQ-LH7C0M/SL4qnAK-amI/AAAAAAAAAFc/EHgjIvRHyJg/s1600/' /><img style='height: 60px; margin: 2px; float: left; border: 1px solid blue;' src='https://lh3.googleusercontent.com/-lCtFchIarws/UHDXshgQ1ZI/AAAAAAAAAMg/ZpWGQHjkaqA/s1600/' /><img style='height: 60px; margin: 2px; float: left; border: 1px solid blue;' src='http://lh3.ggpht.com/-56tZkHWo6FU/TmNPX2tsUmI/AAAAAAAAAF4/vbsmm1_mHxE/s1600/' /><img style='height: 60px; margin: 2px; float: left; border: 1px solid blue;' src='https://lh3.googleusercontent.com/-Fs1H1bd6714/So6Jo1GBo3I/AAAAAAAACDg/a8srKagP3uU/s1600/' /><img style='height: 60px; margin: 2px; float: left; border: 1px solid blue;' src='https://lh6.googleusercontent.com/-2DTx9vo0sRk/SwnchzyVjnI/AAAAAAAAAEY/pMqSJd0ykwU/s1600/' /><img style='height: 60px; margin: 2px; float: left; border: 1px solid blue;' src='https://lh6.googleusercontent.com/-O0wupgGuHEc/SCXlZSNnonI/AAAAAAAACAs/ckG7U5uqByE/s1600/' /><img style='height: 60px; margin: 2px; float: left; border: 1px solid blue;' src='https://lh3.googleusercontent.com/-6vCRH2jCr9A/TSrahk0m_NI/AAAAAAAAEq8/jSEZoyavdYs/s1600/' /><img style='height: 60px; margin: 2px; float: left; border: 1px solid blue;' src='http://lh3.ggpht.com/-LrPxHg2gcws/RzhlJVE1SMI/AAAAAAAAMGc/5chfdQkLgOo/s1600/' /><img style='height: 60px; margin: 2px; float: left; border: 1px solid blue;' src='http://lh5.ggpht.com/-E4e8Zt0IQN8/SDWM-4RMGBI/AAAAAAAABYw/V9wMx36v62s/s1600/' /><img style='height: 60px; margin: 2px; float: left; border: 1px solid blue;' src='https://lh4.googleusercontent.com/-Ta4PqYOuuA4/S4rT6UPlHSE/AAAAAAAACgQ/HvqK_5YRjOk/s144-c/' /><img style='height: 60px; margin: 2px; float: left; border: 1px solid blue;' src='http://mw2.google.com/mw-panoramio/photos/medium/10392418.jpg' /><img style='height: 60px; margin: 2px; float: left; border: 1px solid blue;' src='http://lh6.ggpht.com/-BT-woG9AoN0/S0KbL7HEXcI/AAAAAAAACSU/j6U5gTx4GQY/s1600/' /><img style='height: 60px; margin: 2px; float: left; border: 1px solid blue;' src='https://lh4.googleusercontent.com/-Qt6rI3x7gaY/UVFtw0IvI_I/AAAAAAAAHU4/jipqTLdxtjU/s1600/' /><img style='height: 60px; margin: 2px; float: left; border: 1px solid blue;' src='https://lh5.googleusercontent.com/-p4bwdsd5TBQ/S8kzozts5YI/AAAAAAAAA54/4FLqz30Qihg/rj/' /><img style='height: 60px; margin: 2px; float: left; border: 1px solid blue;' src='https://lh5.googleusercontent.com/-h19yjWaN6xY/TKM_nguXf1I/AAAAAAAAOF8/HrLi44gKh8Y/s1600/' /><img style='height: 60px; margin: 2px; float: left; border: 1px solid blue;' src='https://lh5.googleusercontent.com/-UxUf8u8GhfY/Tn86vqaX3zI/AAAAAAAABko/-XXfDWEgEcU/s1600/' /><img style='height: 60px; margin: 2px; float: left; border: 1px solid blue;' src='https://lh4.googleusercontent.com/-VttbCq35eWg/SWAHqIDXDPI/AAAAAAAACEQ/KWegdxkyubc/s1600/' /><img style='height: 60px; margin: 2px; float: left; border: 1px solid blue;' src='http://mw2.google.com/mw-panoramio/photos/medium/20723698.jpg' /><img style='height: 60px; margin: 2px; float: left; border: 1px solid blue;' src='http://lh4.ggpht.com/-cTL2Iaaa95c/S4EASNtqhFI/AAAAAAAABcA/_yU_U-v_Z1w/s1600/' /><img style='height: 60px; margin: 2px; float: left; border: 1px solid blue;' src='http://lh4.ggpht.com/-fnhovA8KDCA/S7DGwEGDkBI/AAAAAAAAJEc/xw7NQ5P3wbg/s1600/' /><img style='height: 60px; margin: 2px; float: left; border: 1px solid blue;' src='https://lh5.googleusercontent.com/-mz8_aOHyYU4/TAt9lu0ji2I/AAAAAAAAAVY/FIrKE4ycVgM/s1600/' /><img style='height: 60px; margin: 2px; float: left; border: 1px solid blue;' src='http://lh5.ggpht.com/-SGEpAgPwYHI/R_RHDw3dL1I/AAAAAAAAA70/CqSOLIOmUQ0/s1600/' /><img style='height: 60px; margin: 2px; float: left; border: 1px solid blue;' src='http://lh6.ggpht.com/-2o3qggzKhzQ/TWXbisP6S7I/AAAAAAAABGk/eUeU0ykSjrQ/rj/' /><img style='height: 60px; margin: 2px; float: left; border: 1px solid blue;' src='https://lh5.googleusercontent.com/-zZzK9nQDNzg/UgJXjYP5tII/AAAAAAAAAW4/TqRi3eIyNdc/s1600/' /><img style='height: 60px; margin: 2px; float: left; border: 1px solid blue;' src='http://lh5.ggpht.com/-dz5JmDOZmbg/SLPrcA85UuI/AAAAAAAAAOo/W4739asdNUA/s1600/' /><img style='height: 60px; margin: 2px; float: left; border: 1px solid blue;' src='https://lh3.googleusercontent.com/-0wbE9ikN3qw/TIcDOtJRyYI/AAAAAAAACH4/3DUqJe1Pgs0/rj/' /><img style='height: 60px; margin: 2px; float: left; border: 1px solid blue;' src='http://lh5.ggpht.com/-o6P6vdM-bl8/S5wlCHnICFI/AAAAAAAABA4/3MMvJkoohcA/s1600/' /><img style='height: 60px; margin: 2px; float: left; border: 1px solid blue;' src='https://lh5.googleusercontent.com/--yu9g51OV50/SpVW1XwOEBI/AAAAAAAAA3M/clcNR66z3TE/s1600/' /><img style='height: 60px; margin: 2px; float: left; border: 1px solid blue;' src='http://lh3.ggpht.com/-0sBa6R-imXg/Td0OjzI65bI/AAAAAAAAAXg/6v-ExzdZdpA/s1600/' /><img style='height: 60px; margin: 2px; float: left; border: 1px solid blue;' src='https://lh6.googleusercontent.com/-M131Y8PWslA/ULTZJyWWfuI/AAAAAAAAG3c/d8tsMGkzvqs/s1600/' /><img style='height: 60px; margin: 2px; float: left; border: 1px solid blue;' src='https://lh6.googleusercontent.com/-6es4r-P0zA4/S4sySjCY76I/AAAAAAAAAFc/03GKo7wXUmI/s1600/' /><img style='height: 60px; margin: 2px; float: left; border: 1px solid blue;' src='http://lh3.ggpht.com/-_92jRGRULHk/SaY8kuGSf4I/AAAAAAAAAWA/kvXP9LWhjhs/s1600/' /><img style='height: 60px; margin: 2px; float: left; border: 1px solid blue;' src='https://lh6.googleusercontent.com/-7u4xvkvYwS4/TKM_lETu2XI/AAAAAAAAOFQ/n6QrtSxJZjE/s1600/' /><img style='height: 60px; margin: 2px; float: left; border: 1px solid blue;' src='http://lh5.ggpht.com/-V-a3yxTB6pU/SUg7edpPL_I/AAAAAAAAAZY/XeKeAOC1ZXM/s1600/' /><img style='height: 60px; margin: 2px; float: left; border: 1px solid blue;' src='https://lh3.googleusercontent.com/-rwRxk5N4sac/UvmZ1uVPtAI/AAAAAAAADXs/sfeSW5FAa00/s1600/' /><img style='height: 60px; margin: 2px; float: left; border: 1px solid blue;' src='http://lh3.ggpht.com/-xkPuOT_MRJM/S3WpUwOmLJI/AAAAAAAANBg/F63PzlQcP04/s1600/' /><img style='height: 60px; margin: 2px; float: left; border: 1px solid blue;' src='http://lh5.ggpht.com/-wy6ELh5MGWI/S4vwDJG5UtI/AAAAAAAADC0/lDuWg8YlFc0/s1600/' /><img style='height: 60px; margin: 2px; float: left; border: 1px solid blue;' src='https://lh3.googleusercontent.com/-u0mMgECC2Vk/ULg9eGW6-dI/AAAAAAAAADM/ublXPqdEf4o/s1600/' /><img style='height: 60px; margin: 2px; float: left; border: 1px solid blue;' src='http://lh6.ggpht.com/-eSpVvR39QEw/SY93h-CvW_I/AAAAAAAAGj4/aAEe1g_otJI/s1600/' /><img style='height: 60px; margin: 2px; float: left; border: 1px solid blue;' src='http://lh4.ggpht.com/-Szw4nwa8izg/StLpb6miB4I/AAAAAAAAAJk/cDTWbVgI4Lg/s1600/' /><img style='height: 60px; margin: 2px; float: left; border: 1px solid blue;' src='https://lh4.googleusercontent.com/-IiB4TdVTQa4/TJOJu3v5-BI/AAAAAAAAAN8/YQke2iIbZ7M/s1600/' /><img style='height: 60px; margin: 2px; float: left; border: 1px solid blue;' src='https://lh6.googleusercontent.com/-XX7nQCFBuNY/S_WhiqzOy9I/AAAAAAAALRY/kA9HrILls3U/s1600/' /><img style='height: 60px; margin: 2px; float: left; border: 1px solid blue;' src='http://lh4.ggpht.com/-hwpQL5qm3kk/R0nHJvrAToI/AAAAAAAAAdQ/TQQDB1S787c/s1600/' /><img style='height: 60px; margin: 2px; float: left; border: 1px solid blue;' src='https://lh3.googleusercontent.com/-Iyo-VXTwXbM/Rxiq3pS4icI/AAAAAAAAAKg/PVBCuYM5AiQ/s1600/' /><img style='height: 60px; margin: 2px; float: left; border: 1px solid blue;' src='http://lh4.ggpht.com/-PihIuNPnizs/TwUKDd8ZFWI/AAAAAAAAQjs/bj-nUlHu7tQ/s1600/' /><img style='height: 60px; margin: 2px; float: left; border: 1px solid blue;' src='http://lh3.ggpht.com/-okAa7bx340M/TU_-gPMriNI/AAAAAAAADFs/4_kxj91TR0U/s1600/' /><img style='height: 60px; margin: 2px; float: left; border: 1px solid blue;' src='https://lh3.googleusercontent.com/-gH3FhPMP9Pg/TFNOdnJ1PgI/AAAAAAAACEM/rYLJVVPiK-A/s1600/' /><img style='height: 60px; margin: 2px; float: left; border: 1px solid blue;' src='https://lh6.googleusercontent.com/-rWQ7JXQTyZA/StXvcdnnqcI/AAAAAAAAANI/8Jnb-1EbgKk/s1600/' />"
      ],
      "text/plain": [
       "<IPython.core.display.HTML object>"
      ]
     },
     "metadata": {},
     "output_type": "display_data"
    }
   ],
   "source": [
    "IMAGES_NUMBER = 60\n",
    "landmarkId = train_df['landmark_id'].value_counts().keys()[5]\n",
    "urls = train_df[train_df['landmark_id'] == landmarkId]['url'].head(IMAGES_NUMBER)\n",
    "displayLandmark(urls, \"Petronas\")"
   ]
  },
  {
   "cell_type": "code",
   "execution_count": 31,
   "metadata": {
    "execution": {
     "iopub.execute_input": "2020-09-22T16:07:59.013070Z",
     "iopub.status.busy": "2020-09-22T16:07:59.009967Z",
     "iopub.status.idle": "2020-09-22T16:07:59.035106Z",
     "shell.execute_reply": "2020-09-22T16:07:59.031143Z"
    },
    "papermill": {
     "duration": 0.107378,
     "end_time": "2020-09-22T16:07:59.035309",
     "exception": false,
     "start_time": "2020-09-22T16:07:58.927931",
     "status": "completed"
    },
    "tags": []
   },
   "outputs": [
    {
     "data": {
      "text/plain": [
       "86    https://lh3.googleusercontent.com/-EpNtXQntMr0...\n",
       "Name: url, dtype: object"
      ]
     },
     "execution_count": 31,
     "metadata": {},
     "output_type": "execute_result"
    }
   ],
   "source": [
    "urls.head(1)"
   ]
  },
  {
   "cell_type": "code",
   "execution_count": 32,
   "metadata": {
    "execution": {
     "iopub.execute_input": "2020-09-22T16:07:59.178807Z",
     "iopub.status.busy": "2020-09-22T16:07:59.177854Z",
     "iopub.status.idle": "2020-09-22T16:07:59.205908Z",
     "shell.execute_reply": "2020-09-22T16:07:59.206693Z"
    },
    "papermill": {
     "duration": 0.101262,
     "end_time": "2020-09-22T16:07:59.206891",
     "exception": false,
     "start_time": "2020-09-22T16:07:59.105629",
     "status": "completed"
    },
    "tags": []
   },
   "outputs": [],
   "source": [
    "from PIL import Image\n",
    "from PIL.ExifTags import TAGS, GPSTAGS\n",
    "\n",
    "\n",
    "class ImageMetaData(object):\n",
    "    '''\n",
    "    Extract the exif data from any image. Data includes GPS coordinates, \n",
    "    Focal Length, Manufacture, and more.\n",
    "    '''\n",
    "    exif_data = None\n",
    "    image = None\n",
    "\n",
    "    def __init__(self, img_path):\n",
    "        self.image = Image.open(img_path)\n",
    "        print(self.image._getexif())\n",
    "        #self.get_exif_data()\n",
    "        #super(ImageMetaData, self).__init__()\n",
    "\n",
    "    def get_exif_data(self):\n",
    "        \"\"\"Returns a dictionary from the exif data of an PIL Image item. Also converts the GPS Tags\"\"\"\n",
    "        exif_data = {}\n",
    "        info = self.image._getexif()\n",
    "        if info:\n",
    "            for tag, value in info.items():\n",
    "                decoded = TAGS.get(tag, tag)\n",
    "                if decoded == \"GPSInfo\":\n",
    "                    gps_data = {}\n",
    "                    for t in value:\n",
    "                        sub_decoded = GPSTAGS.get(t, t)\n",
    "                        gps_data[sub_decoded] = value[t]\n",
    "\n",
    "                    exif_data[decoded] = gps_data\n",
    "                else:\n",
    "                    exif_data[decoded] = value\n",
    "        self.exif_data = exif_data\n",
    "        return exif_data\n",
    "\n",
    "    def get_if_exist(self, data, key):\n",
    "        if key in data:\n",
    "            return data[key]\n",
    "        return None\n",
    "\n",
    "    def convert_to_degress(self, value):\n",
    "\n",
    "        \"\"\"Helper function to convert the GPS coordinates \n",
    "        stored in the EXIF to degress in float format\"\"\"\n",
    "        d0 = value[0][0]\n",
    "        d1 = value[0][1]\n",
    "        d = float(d0) / float(d1)\n",
    "\n",
    "        m0 = value[1][0]\n",
    "        m1 = value[1][1]\n",
    "        m = float(m0) / float(m1)\n",
    "\n",
    "        s0 = value[2][0]\n",
    "        s1 = value[2][1]\n",
    "        s = float(s0) / float(s1)\n",
    "\n",
    "        return d + (m / 60.0) + (s / 3600.0)\n",
    "\n",
    "    def get_lat_lng(self):\n",
    "        \"\"\"Returns the latitude and longitude, if available, from the provided exif_data (obtained through get_exif_data above)\"\"\"\n",
    "        lat = None\n",
    "        lng = None\n",
    "        exif_data = self.get_exif_data()\n",
    "        #print(exif_data)\n",
    "        if \"GPSInfo\" in exif_data:      \n",
    "            gps_info = exif_data[\"GPSInfo\"]\n",
    "            gps_latitude = self.get_if_exist(gps_info, \"GPSLatitude\")\n",
    "            gps_latitude_ref = self.get_if_exist(gps_info, 'GPSLatitudeRef')\n",
    "            gps_longitude = self.get_if_exist(gps_info, 'GPSLongitude')\n",
    "            gps_longitude_ref = self.get_if_exist(gps_info, 'GPSLongitudeRef')\n",
    "            if gps_latitude and gps_latitude_ref and gps_longitude and gps_longitude_ref:\n",
    "                lat = self.convert_to_degress(gps_latitude)\n",
    "                if gps_latitude_ref != \"N\":                     \n",
    "                    lat = 0 - lat\n",
    "                lng = self.convert_to_degress(gps_longitude)\n",
    "                if gps_longitude_ref != \"E\":\n",
    "                    lng = 0 - lng\n",
    "        return lat, lng\n"
   ]
  },
  {
   "cell_type": "code",
   "execution_count": 33,
   "metadata": {
    "execution": {
     "iopub.execute_input": "2020-09-22T16:07:59.318719Z",
     "iopub.status.busy": "2020-09-22T16:07:59.318127Z",
     "iopub.status.idle": "2020-09-22T16:07:59.376429Z",
     "shell.execute_reply": "2020-09-22T16:07:59.375807Z"
    },
    "papermill": {
     "duration": 0.105346,
     "end_time": "2020-09-22T16:07:59.376565",
     "exception": false,
     "start_time": "2020-09-22T16:07:59.271219",
     "status": "completed"
    },
    "tags": []
   },
   "outputs": [
    {
     "ename": "NameError",
     "evalue": "name 'freq_label' is not defined",
     "output_type": "error",
     "traceback": [
      "\u001b[0;31m---------------------------------------------------------------------------\u001b[0m",
      "\u001b[0;31mNameError\u001b[0m                                 Traceback (most recent call last)",
      "\u001b[0;32m<ipython-input-33-048d0b5c2558>\u001b[0m in \u001b[0;36m<module>\u001b[0;34m\u001b[0m\n\u001b[1;32m      1\u001b[0m \u001b[0;31m# submit the most freq label\u001b[0m\u001b[0;34m\u001b[0m\u001b[0;34m\u001b[0m\u001b[0;34m\u001b[0m\u001b[0m\n\u001b[0;32m----> 2\u001b[0;31m \u001b[0msubmission\u001b[0m\u001b[0;34m[\u001b[0m\u001b[0;34m'landmarks'\u001b[0m\u001b[0;34m]\u001b[0m \u001b[0;34m=\u001b[0m \u001b[0;34m'%d %2.2f'\u001b[0m \u001b[0;34m%\u001b[0m \u001b[0;34m(\u001b[0m\u001b[0mfreq_label\u001b[0m\u001b[0;34m.\u001b[0m\u001b[0mindex\u001b[0m\u001b[0;34m[\u001b[0m\u001b[0;36m0\u001b[0m\u001b[0;34m]\u001b[0m\u001b[0;34m,\u001b[0m \u001b[0mfreq_label\u001b[0m\u001b[0;34m.\u001b[0m\u001b[0mvalues\u001b[0m\u001b[0;34m[\u001b[0m\u001b[0;36m0\u001b[0m\u001b[0;34m]\u001b[0m\u001b[0;34m)\u001b[0m\u001b[0;34m\u001b[0m\u001b[0;34m\u001b[0m\u001b[0m\n\u001b[0m\u001b[1;32m      3\u001b[0m \u001b[0msubmission\u001b[0m\u001b[0;34m.\u001b[0m\u001b[0mto_csv\u001b[0m\u001b[0;34m(\u001b[0m\u001b[0;34m'submission.csv'\u001b[0m\u001b[0;34m,\u001b[0m \u001b[0mindex\u001b[0m\u001b[0;34m=\u001b[0m\u001b[0;32mFalse\u001b[0m\u001b[0;34m)\u001b[0m\u001b[0;34m\u001b[0m\u001b[0;34m\u001b[0m\u001b[0m\n\u001b[1;32m      4\u001b[0m \u001b[0;34m\u001b[0m\u001b[0m\n\u001b[1;32m      5\u001b[0m \u001b[0mnp\u001b[0m\u001b[0;34m.\u001b[0m\u001b[0mrandom\u001b[0m\u001b[0;34m.\u001b[0m\u001b[0mseed\u001b[0m\u001b[0;34m(\u001b[0m\u001b[0;36m2018\u001b[0m\u001b[0;34m)\u001b[0m\u001b[0;34m\u001b[0m\u001b[0;34m\u001b[0m\u001b[0m\n",
      "\u001b[0;31mNameError\u001b[0m: name 'freq_label' is not defined"
     ]
    }
   ],
   "source": [
    "# submit the most freq label\n",
    "submission['landmarks'] = '%d %2.2f' % (freq_label.index[0], freq_label.values[0])\n",
    "submission.to_csv('submission.csv', index=False)\n",
    "\n",
    "np.random.seed(2018)\n",
    "r_idx = lambda : np.random.choice(freq_label.index, p = freq_label.values)\n",
    "\n",
    "r_score = lambda idx: '%d %2.4f' % (freq_label.index[idx], freq_label.values[idx])\n",
    "submission['landmarks'] = submission.id.map(lambda _: r_score(r_idx()))\n",
    "submission.to_csv('rand_submission.csv', index=False)"
   ]
  },
  {
   "cell_type": "markdown",
   "metadata": {
    "papermill": {
     "duration": 0.039574,
     "end_time": "2020-09-22T16:07:59.456483",
     "exception": false,
     "start_time": "2020-09-22T16:07:59.416909",
     "status": "completed"
    },
    "tags": []
   },
   "source": []
  },
  {
   "cell_type": "code",
   "execution_count": 34,
   "metadata": {
    "execution": {
     "iopub.execute_input": "2020-09-22T16:07:59.543725Z",
     "iopub.status.busy": "2020-09-22T16:07:59.542970Z",
     "iopub.status.idle": "2020-09-22T16:07:59.546622Z",
     "shell.execute_reply": "2020-09-22T16:07:59.546148Z"
    },
    "papermill": {
     "duration": 0.050071,
     "end_time": "2020-09-22T16:07:59.546749",
     "exception": false,
     "start_time": "2020-09-22T16:07:59.496678",
     "status": "completed"
    },
    "tags": []
   },
   "outputs": [],
   "source": [
    "import numpy as np # linear algebra\n",
    "import pandas as pd # data processing, CSV file I/O (e.g. pd.read_csv)\n",
    "import matplotlib.pyplot as plt\n",
    "import seaborn as sns\n",
    "%matplotlib inline"
   ]
  },
  {
   "cell_type": "code",
   "execution_count": 35,
   "metadata": {
    "execution": {
     "iopub.execute_input": "2020-09-22T16:07:59.633311Z",
     "iopub.status.busy": "2020-09-22T16:07:59.632566Z",
     "iopub.status.idle": "2020-09-22T16:08:05.162906Z",
     "shell.execute_reply": "2020-09-22T16:08:05.162404Z"
    },
    "papermill": {
     "duration": 5.575563,
     "end_time": "2020-09-22T16:08:05.163023",
     "exception": false,
     "start_time": "2020-09-22T16:07:59.587460",
     "status": "completed"
    },
    "tags": []
   },
   "outputs": [
    {
     "name": "stdout",
     "output_type": "stream",
     "text": [
      "Training data size (1225029, 3)\n",
      "test data size (117703, 2)\n"
     ]
    },
    {
     "data": {
      "text/html": [
       "<div>\n",
       "<style scoped>\n",
       "    .dataframe tbody tr th:only-of-type {\n",
       "        vertical-align: middle;\n",
       "    }\n",
       "\n",
       "    .dataframe tbody tr th {\n",
       "        vertical-align: top;\n",
       "    }\n",
       "\n",
       "    .dataframe thead th {\n",
       "        text-align: right;\n",
       "    }\n",
       "</style>\n",
       "<table border=\"1\" class=\"dataframe\">\n",
       "  <thead>\n",
       "    <tr style=\"text-align: right;\">\n",
       "      <th></th>\n",
       "      <th>id</th>\n",
       "      <th>landmarks</th>\n",
       "    </tr>\n",
       "  </thead>\n",
       "  <tbody>\n",
       "    <tr>\n",
       "      <th>0</th>\n",
       "      <td>000088da12d664db</td>\n",
       "      <td>8815 0.03</td>\n",
       "    </tr>\n",
       "    <tr>\n",
       "      <th>1</th>\n",
       "      <td>0001623c6d808702</td>\n",
       "      <td>7249 0.61</td>\n",
       "    </tr>\n",
       "    <tr>\n",
       "      <th>2</th>\n",
       "      <td>0001bbb682d45002</td>\n",
       "      <td>5328 0.5</td>\n",
       "    </tr>\n",
       "    <tr>\n",
       "      <th>3</th>\n",
       "      <td>0002362830cfe3a3</td>\n",
       "      <td>4188 0.96</td>\n",
       "    </tr>\n",
       "    <tr>\n",
       "      <th>4</th>\n",
       "      <td>000270c9100de789</td>\n",
       "      <td>10506 0.82</td>\n",
       "    </tr>\n",
       "  </tbody>\n",
       "</table>\n",
       "</div>"
      ],
      "text/plain": [
       "                 id   landmarks\n",
       "0  000088da12d664db   8815 0.03\n",
       "1  0001623c6d808702   7249 0.61\n",
       "2  0001bbb682d45002    5328 0.5\n",
       "3  0002362830cfe3a3   4188 0.96\n",
       "4  000270c9100de789  10506 0.82"
      ]
     },
     "execution_count": 35,
     "metadata": {},
     "output_type": "execute_result"
    }
   ],
   "source": [
    "train_data = pd.read_csv('../input/landmark-recognition-challenge/train.csv.zip')\n",
    "test_data = pd.read_csv('../input/landmark-recognition-challenge/test.csv.zip')\n",
    "submission = pd.read_csv(\"../input/landmark-recognition-challenge/sample_submission.csv.zip\")\n",
    "\n",
    "print(\"Training data size\",train_data.shape)\n",
    "print(\"test data size\",test_data.shape)\n",
    "submission.head()"
   ]
  },
  {
   "cell_type": "code",
   "execution_count": 36,
   "metadata": {
    "execution": {
     "iopub.execute_input": "2020-09-22T16:08:05.259394Z",
     "iopub.status.busy": "2020-09-22T16:08:05.258670Z",
     "iopub.status.idle": "2020-09-22T16:08:05.262553Z",
     "shell.execute_reply": "2020-09-22T16:08:05.262023Z"
    },
    "papermill": {
     "duration": 0.054549,
     "end_time": "2020-09-22T16:08:05.262657",
     "exception": false,
     "start_time": "2020-09-22T16:08:05.208108",
     "status": "completed"
    },
    "tags": []
   },
   "outputs": [
    {
     "data": {
      "text/html": [
       "<div>\n",
       "<style scoped>\n",
       "    .dataframe tbody tr th:only-of-type {\n",
       "        vertical-align: middle;\n",
       "    }\n",
       "\n",
       "    .dataframe tbody tr th {\n",
       "        vertical-align: top;\n",
       "    }\n",
       "\n",
       "    .dataframe thead th {\n",
       "        text-align: right;\n",
       "    }\n",
       "</style>\n",
       "<table border=\"1\" class=\"dataframe\">\n",
       "  <thead>\n",
       "    <tr style=\"text-align: right;\">\n",
       "      <th></th>\n",
       "      <th>id</th>\n",
       "      <th>url</th>\n",
       "    </tr>\n",
       "  </thead>\n",
       "  <tbody>\n",
       "    <tr>\n",
       "      <th>0</th>\n",
       "      <td>000088da12d664db</td>\n",
       "      <td>https://lh3.googleusercontent.com/-k45wfamuhT8...</td>\n",
       "    </tr>\n",
       "    <tr>\n",
       "      <th>1</th>\n",
       "      <td>0001623c6d808702</td>\n",
       "      <td>https://lh3.googleusercontent.com/-OQ0ywv8KVIA...</td>\n",
       "    </tr>\n",
       "    <tr>\n",
       "      <th>2</th>\n",
       "      <td>0001bbb682d45002</td>\n",
       "      <td>https://lh3.googleusercontent.com/-kloLenz1xZk...</td>\n",
       "    </tr>\n",
       "    <tr>\n",
       "      <th>3</th>\n",
       "      <td>0002362830cfe3a3</td>\n",
       "      <td>https://lh3.googleusercontent.com/-N6z79jNZYTg...</td>\n",
       "    </tr>\n",
       "    <tr>\n",
       "      <th>4</th>\n",
       "      <td>000270c9100de789</td>\n",
       "      <td>https://lh3.googleusercontent.com/-keriHaVOq1U...</td>\n",
       "    </tr>\n",
       "  </tbody>\n",
       "</table>\n",
       "</div>"
      ],
      "text/plain": [
       "                 id                                                url\n",
       "0  000088da12d664db  https://lh3.googleusercontent.com/-k45wfamuhT8...\n",
       "1  0001623c6d808702  https://lh3.googleusercontent.com/-OQ0ywv8KVIA...\n",
       "2  0001bbb682d45002  https://lh3.googleusercontent.com/-kloLenz1xZk...\n",
       "3  0002362830cfe3a3  https://lh3.googleusercontent.com/-N6z79jNZYTg...\n",
       "4  000270c9100de789  https://lh3.googleusercontent.com/-keriHaVOq1U..."
      ]
     },
     "execution_count": 36,
     "metadata": {},
     "output_type": "execute_result"
    }
   ],
   "source": [
    "test_data.head()"
   ]
  },
  {
   "cell_type": "code",
   "execution_count": 37,
   "metadata": {
    "execution": {
     "iopub.execute_input": "2020-09-22T16:08:05.350932Z",
     "iopub.status.busy": "2020-09-22T16:08:05.350402Z",
     "iopub.status.idle": "2020-09-22T16:08:05.354847Z",
     "shell.execute_reply": "2020-09-22T16:08:05.355351Z"
    },
    "papermill": {
     "duration": 0.051214,
     "end_time": "2020-09-22T16:08:05.355486",
     "exception": false,
     "start_time": "2020-09-22T16:08:05.304272",
     "status": "completed"
    },
    "tags": []
   },
   "outputs": [
    {
     "name": "stdout",
     "output_type": "stream",
     "text": [
      "id a6c207c04d7c3835\n",
      "url: https://lh5.googleusercontent.com/-oJsiYZW1JPE/Rnah5Zf5XxI/AAAAAAAAADY/tLtMU5hCdlI/s1600/\n",
      "landmark id: 233\n"
     ]
    }
   ],
   "source": [
    "# now open the URL\n",
    "temp = 4444\n",
    "print('id', train_data['id'][temp])\n",
    "print('url:', train_data['url'][temp])\n",
    "print('landmark id:', train_data['landmark_id'][temp])"
   ]
  },
  {
   "cell_type": "code",
   "execution_count": 38,
   "metadata": {
    "execution": {
     "iopub.execute_input": "2020-09-22T16:08:05.441452Z",
     "iopub.status.busy": "2020-09-22T16:08:05.440879Z",
     "iopub.status.idle": "2020-09-22T16:08:05.615385Z",
     "shell.execute_reply": "2020-09-22T16:08:05.614800Z"
    },
    "papermill": {
     "duration": 0.218507,
     "end_time": "2020-09-22T16:08:05.615498",
     "exception": false,
     "start_time": "2020-09-22T16:08:05.396991",
     "status": "completed"
    },
    "tags": []
   },
   "outputs": [
    {
     "data": {
      "text/plain": [
       "<matplotlib.axes._subplots.AxesSubplot at 0x7fe7c7b0d2d0>"
      ]
     },
     "execution_count": 38,
     "metadata": {},
     "output_type": "execute_result"
    },
    {
     "data": {
      "image/png": "[encoded data removed]",
      "text/plain": [
       "<Figure size 432x288 with 1 Axes>"
      ]
     },
     "metadata": {
      "needs_background": "light"
     },
     "output_type": "display_data"
    }
   ],
   "source": [
    "train_data['landmark_id'].value_counts().hist()"
   ]
  },
  {
   "cell_type": "code",
   "execution_count": 39,
   "metadata": {
    "execution": {
     "iopub.execute_input": "2020-09-22T16:08:05.716309Z",
     "iopub.status.busy": "2020-09-22T16:08:05.715719Z",
     "iopub.status.idle": "2020-09-22T16:08:06.069420Z",
     "shell.execute_reply": "2020-09-22T16:08:06.069857Z"
    },
    "papermill": {
     "duration": 0.404067,
     "end_time": "2020-09-22T16:08:06.069989",
     "exception": false,
     "start_time": "2020-09-22T16:08:05.665922",
     "status": "completed"
    },
    "tags": []
   },
   "outputs": [
    {
     "data": {
      "text/html": [
       "<div>\n",
       "<style scoped>\n",
       "    .dataframe tbody tr th:only-of-type {\n",
       "        vertical-align: middle;\n",
       "    }\n",
       "\n",
       "    .dataframe tbody tr th {\n",
       "        vertical-align: top;\n",
       "    }\n",
       "\n",
       "    .dataframe thead th {\n",
       "        text-align: right;\n",
       "    }\n",
       "</style>\n",
       "<table border=\"1\" class=\"dataframe\">\n",
       "  <thead>\n",
       "    <tr style=\"text-align: right;\">\n",
       "      <th></th>\n",
       "      <th>Total</th>\n",
       "      <th>Percent</th>\n",
       "    </tr>\n",
       "  </thead>\n",
       "  <tbody>\n",
       "    <tr>\n",
       "      <th>landmark_id</th>\n",
       "      <td>0</td>\n",
       "      <td>0.0</td>\n",
       "    </tr>\n",
       "    <tr>\n",
       "      <th>url</th>\n",
       "      <td>0</td>\n",
       "      <td>0.0</td>\n",
       "    </tr>\n",
       "    <tr>\n",
       "      <th>id</th>\n",
       "      <td>0</td>\n",
       "      <td>0.0</td>\n",
       "    </tr>\n",
       "  </tbody>\n",
       "</table>\n",
       "</div>"
      ],
      "text/plain": [
       "             Total  Percent\n",
       "landmark_id      0      0.0\n",
       "url              0      0.0\n",
       "id               0      0.0"
      ]
     },
     "execution_count": 39,
     "metadata": {},
     "output_type": "execute_result"
    }
   ],
   "source": [
    "# missing data in training data \n",
    "total = train_data.isnull().sum().sort_values(ascending = False)\n",
    "percent = (train_data.isnull().sum()/train_data.isnull().count()).sort_values(ascending = False)\n",
    "missing_train_data = pd.concat([total, percent], axis=1, keys=['Total', 'Percent'])\n",
    "missing_train_data.head()"
   ]
  },
  {
   "cell_type": "code",
   "execution_count": 40,
   "metadata": {
    "execution": {
     "iopub.execute_input": "2020-09-22T16:08:06.161388Z",
     "iopub.status.busy": "2020-09-22T16:08:06.160805Z",
     "iopub.status.idle": "2020-09-22T16:08:06.211994Z",
     "shell.execute_reply": "2020-09-22T16:08:06.211533Z"
    },
    "papermill": {
     "duration": 0.097178,
     "end_time": "2020-09-22T16:08:06.212116",
     "exception": false,
     "start_time": "2020-09-22T16:08:06.114938",
     "status": "completed"
    },
    "tags": []
   },
   "outputs": [
    {
     "data": {
      "text/html": [
       "<div>\n",
       "<style scoped>\n",
       "    .dataframe tbody tr th:only-of-type {\n",
       "        vertical-align: middle;\n",
       "    }\n",
       "\n",
       "    .dataframe tbody tr th {\n",
       "        vertical-align: top;\n",
       "    }\n",
       "\n",
       "    .dataframe thead th {\n",
       "        text-align: right;\n",
       "    }\n",
       "</style>\n",
       "<table border=\"1\" class=\"dataframe\">\n",
       "  <thead>\n",
       "    <tr style=\"text-align: right;\">\n",
       "      <th></th>\n",
       "      <th>Total</th>\n",
       "      <th>Percent</th>\n",
       "    </tr>\n",
       "  </thead>\n",
       "  <tbody>\n",
       "    <tr>\n",
       "      <th>url</th>\n",
       "      <td>0</td>\n",
       "      <td>0.0</td>\n",
       "    </tr>\n",
       "    <tr>\n",
       "      <th>id</th>\n",
       "      <td>0</td>\n",
       "      <td>0.0</td>\n",
       "    </tr>\n",
       "  </tbody>\n",
       "</table>\n",
       "</div>"
      ],
      "text/plain": [
       "     Total  Percent\n",
       "url      0      0.0\n",
       "id       0      0.0"
      ]
     },
     "execution_count": 40,
     "metadata": {},
     "output_type": "execute_result"
    }
   ],
   "source": [
    "# missing data in test data \n",
    "total = test_data.isnull().sum().sort_values(ascending = False)\n",
    "percent = (test_data.isnull().sum()/test_data.isnull().count()).sort_values(ascending = False)\n",
    "missing_test_data = pd.concat([total, percent], axis=1, keys=['Total', 'Percent'])\n",
    "missing_test_data.head()"
   ]
  },
  {
   "cell_type": "code",
   "execution_count": 41,
   "metadata": {
    "execution": {
     "iopub.execute_input": "2020-09-22T16:08:06.305440Z",
     "iopub.status.busy": "2020-09-22T16:08:06.304837Z",
     "iopub.status.idle": "2020-09-22T16:08:06.326039Z",
     "shell.execute_reply": "2020-09-22T16:08:06.326555Z"
    },
    "papermill": {
     "duration": 0.071483,
     "end_time": "2020-09-22T16:08:06.326710",
     "exception": false,
     "start_time": "2020-09-22T16:08:06.255227",
     "status": "completed"
    },
    "tags": []
   },
   "outputs": [
    {
     "data": {
      "text/html": [
       "<div>\n",
       "<style scoped>\n",
       "    .dataframe tbody tr th:only-of-type {\n",
       "        vertical-align: middle;\n",
       "    }\n",
       "\n",
       "    .dataframe tbody tr th {\n",
       "        vertical-align: top;\n",
       "    }\n",
       "\n",
       "    .dataframe thead th {\n",
       "        text-align: right;\n",
       "    }\n",
       "</style>\n",
       "<table border=\"1\" class=\"dataframe\">\n",
       "  <thead>\n",
       "    <tr style=\"text-align: right;\">\n",
       "      <th></th>\n",
       "      <th>landmark_id</th>\n",
       "      <th>count</th>\n",
       "    </tr>\n",
       "  </thead>\n",
       "  <tbody>\n",
       "    <tr>\n",
       "      <th>0</th>\n",
       "      <td>9633</td>\n",
       "      <td>50337</td>\n",
       "    </tr>\n",
       "    <tr>\n",
       "      <th>1</th>\n",
       "      <td>6051</td>\n",
       "      <td>50148</td>\n",
       "    </tr>\n",
       "    <tr>\n",
       "      <th>2</th>\n",
       "      <td>6599</td>\n",
       "      <td>23415</td>\n",
       "    </tr>\n",
       "    <tr>\n",
       "      <th>3</th>\n",
       "      <td>9779</td>\n",
       "      <td>18471</td>\n",
       "    </tr>\n",
       "    <tr>\n",
       "      <th>4</th>\n",
       "      <td>2061</td>\n",
       "      <td>13271</td>\n",
       "    </tr>\n",
       "    <tr>\n",
       "      <th>5</th>\n",
       "      <td>5554</td>\n",
       "      <td>11147</td>\n",
       "    </tr>\n",
       "    <tr>\n",
       "      <th>6</th>\n",
       "      <td>6651</td>\n",
       "      <td>9508</td>\n",
       "    </tr>\n",
       "    <tr>\n",
       "      <th>7</th>\n",
       "      <td>6696</td>\n",
       "      <td>9222</td>\n",
       "    </tr>\n",
       "  </tbody>\n",
       "</table>\n",
       "</div>"
      ],
      "text/plain": [
       "   landmark_id  count\n",
       "0         9633  50337\n",
       "1         6051  50148\n",
       "2         6599  23415\n",
       "3         9779  18471\n",
       "4         2061  13271\n",
       "5         5554  11147\n",
       "6         6651   9508\n",
       "7         6696   9222"
      ]
     },
     "execution_count": 41,
     "metadata": {},
     "output_type": "execute_result"
    }
   ],
   "source": [
    "# Occurance of landmark_id in decreasing order(Top categories)\n",
    "temp = pd.DataFrame(train_data.landmark_id.value_counts().head(8))\n",
    "temp.reset_index(inplace=True)\n",
    "temp.columns = ['landmark_id','count']\n",
    "temp"
   ]
  },
  {
   "cell_type": "code",
   "execution_count": 42,
   "metadata": {
    "execution": {
     "iopub.execute_input": "2020-09-22T16:08:06.416716Z",
     "iopub.status.busy": "2020-09-22T16:08:06.416140Z",
     "iopub.status.idle": "2020-09-22T16:08:06.561992Z",
     "shell.execute_reply": "2020-09-22T16:08:06.562584Z"
    },
    "papermill": {
     "duration": 0.192274,
     "end_time": "2020-09-22T16:08:06.562734",
     "exception": false,
     "start_time": "2020-09-22T16:08:06.370460",
     "status": "completed"
    },
    "tags": []
   },
   "outputs": [
    {
     "data": {
      "image/png": "[encoded data removed]",
      "text/plain": [
       "<Figure size 648x576 with 1 Axes>"
      ]
     },
     "metadata": {
      "needs_background": "light"
     },
     "output_type": "display_data"
    }
   ],
   "source": [
    "# Plot the most frequent landmark_ids\n",
    "plt.figure(figsize = (9, 8))\n",
    "plt.title('Most frequent landmarks')\n",
    "sns.set_color_codes(\"pastel\")\n",
    "sns.barplot(x=\"landmark_id\", y=\"count\", data=temp,\n",
    "            label=\"Count\")\n",
    "plt.show()"
   ]
  },
  {
   "cell_type": "code",
   "execution_count": 43,
   "metadata": {
    "execution": {
     "iopub.execute_input": "2020-09-22T16:08:06.705918Z",
     "iopub.status.busy": "2020-09-22T16:08:06.705364Z",
     "iopub.status.idle": "2020-09-22T16:08:06.728008Z",
     "shell.execute_reply": "2020-09-22T16:08:06.727569Z"
    },
    "papermill": {
     "duration": 0.073124,
     "end_time": "2020-09-22T16:08:06.728141",
     "exception": false,
     "start_time": "2020-09-22T16:08:06.655017",
     "status": "completed"
    },
    "tags": []
   },
   "outputs": [
    {
     "data": {
      "text/html": [
       "<div>\n",
       "<style scoped>\n",
       "    .dataframe tbody tr th:only-of-type {\n",
       "        vertical-align: middle;\n",
       "    }\n",
       "\n",
       "    .dataframe tbody tr th {\n",
       "        vertical-align: top;\n",
       "    }\n",
       "\n",
       "    .dataframe thead th {\n",
       "        text-align: right;\n",
       "    }\n",
       "</style>\n",
       "<table border=\"1\" class=\"dataframe\">\n",
       "  <thead>\n",
       "    <tr style=\"text-align: right;\">\n",
       "      <th></th>\n",
       "      <th>landmark_id</th>\n",
       "      <th>count</th>\n",
       "    </tr>\n",
       "  </thead>\n",
       "  <tbody>\n",
       "    <tr>\n",
       "      <th>0</th>\n",
       "      <td>4753</td>\n",
       "      <td>1</td>\n",
       "    </tr>\n",
       "    <tr>\n",
       "      <th>1</th>\n",
       "      <td>6261</td>\n",
       "      <td>1</td>\n",
       "    </tr>\n",
       "    <tr>\n",
       "      <th>2</th>\n",
       "      <td>4144</td>\n",
       "      <td>1</td>\n",
       "    </tr>\n",
       "    <tr>\n",
       "      <th>3</th>\n",
       "      <td>1527</td>\n",
       "      <td>1</td>\n",
       "    </tr>\n",
       "    <tr>\n",
       "      <th>4</th>\n",
       "      <td>6025</td>\n",
       "      <td>1</td>\n",
       "    </tr>\n",
       "    <tr>\n",
       "      <th>5</th>\n",
       "      <td>4334</td>\n",
       "      <td>1</td>\n",
       "    </tr>\n",
       "    <tr>\n",
       "      <th>6</th>\n",
       "      <td>5865</td>\n",
       "      <td>1</td>\n",
       "    </tr>\n",
       "    <tr>\n",
       "      <th>7</th>\n",
       "      <td>8381</td>\n",
       "      <td>1</td>\n",
       "    </tr>\n",
       "  </tbody>\n",
       "</table>\n",
       "</div>"
      ],
      "text/plain": [
       "   landmark_id  count\n",
       "0         4753      1\n",
       "1         6261      1\n",
       "2         4144      1\n",
       "3         1527      1\n",
       "4         6025      1\n",
       "5         4334      1\n",
       "6         5865      1\n",
       "7         8381      1"
      ]
     },
     "execution_count": 43,
     "metadata": {},
     "output_type": "execute_result"
    }
   ],
   "source": [
    "# Occurance of landmark_id in increasing order\n",
    "temp = pd.DataFrame(train_data.landmark_id.value_counts().tail(8))\n",
    "temp.reset_index(inplace=True)\n",
    "temp.columns = ['landmark_id','count']\n",
    "temp"
   ]
  },
  {
   "cell_type": "code",
   "execution_count": 44,
   "metadata": {
    "execution": {
     "iopub.execute_input": "2020-09-22T16:08:06.823924Z",
     "iopub.status.busy": "2020-09-22T16:08:06.823363Z",
     "iopub.status.idle": "2020-09-22T16:08:06.969423Z",
     "shell.execute_reply": "2020-09-22T16:08:06.968911Z"
    },
    "papermill": {
     "duration": 0.197191,
     "end_time": "2020-09-22T16:08:06.969542",
     "exception": false,
     "start_time": "2020-09-22T16:08:06.772351",
     "status": "completed"
    },
    "tags": []
   },
   "outputs": [
    {
     "data": {
      "image/png": "[encoded data removed]",
      "text/plain": [
       "<Figure size 648x576 with 1 Axes>"
      ]
     },
     "metadata": {
      "needs_background": "light"
     },
     "output_type": "display_data"
    }
   ],
   "source": [
    "\n",
    "# Plot the least frequent landmark_ids\n",
    "plt.figure(figsize = (9, 8))\n",
    "plt.title('Least frequent landmarks')\n",
    "sns.set_color_codes(\"pastel\")\n",
    "sns.barplot(x=\"landmark_id\", y=\"count\", data=temp,\n",
    "            label=\"Count\")\n",
    "plt.show()"
   ]
  },
  {
   "cell_type": "code",
   "execution_count": 45,
   "metadata": {
    "execution": {
     "iopub.execute_input": "2020-09-22T16:08:07.122555Z",
     "iopub.status.busy": "2020-09-22T16:08:07.121951Z",
     "iopub.status.idle": "2020-09-22T16:08:07.948397Z",
     "shell.execute_reply": "2020-09-22T16:08:07.947843Z"
    },
    "papermill": {
     "duration": 0.933385,
     "end_time": "2020-09-22T16:08:07.948521",
     "exception": false,
     "start_time": "2020-09-22T16:08:07.015136",
     "status": "completed"
    },
    "tags": []
   },
   "outputs": [
    {
     "data": {
      "text/plain": [
       "id             1225029\n",
       "url            1225029\n",
       "landmark_id      14951\n",
       "dtype: int64"
      ]
     },
     "execution_count": 45,
     "metadata": {},
     "output_type": "execute_result"
    }
   ],
   "source": [
    "# Unique URL's\n",
    "train_data.nunique()"
   ]
  },
  {
   "cell_type": "code",
   "execution_count": 46,
   "metadata": {
    "execution": {
     "iopub.execute_input": "2020-09-22T16:08:08.050346Z",
     "iopub.status.busy": "2020-09-22T16:08:08.049686Z",
     "iopub.status.idle": "2020-09-22T16:08:08.645996Z",
     "shell.execute_reply": "2020-09-22T16:08:08.645561Z"
    },
    "papermill": {
     "duration": 0.650657,
     "end_time": "2020-09-22T16:08:08.646128",
     "exception": false,
     "start_time": "2020-09-22T16:08:07.995471",
     "status": "completed"
    },
    "tags": []
   },
   "outputs": [
    {
     "data": {
      "image/png": "[encoded data removed]",
      "text/plain": [
       "<Figure size 720x576 with 1 Axes>"
      ]
     },
     "metadata": {
      "needs_background": "light"
     },
     "output_type": "display_data"
    }
   ],
   "source": [
    "#Class distribution\n",
    "plt.figure(figsize = (10, 8))\n",
    "plt.title('Category Distribuition')\n",
    "sns.distplot(train_data['landmark_id'])\n",
    "\n",
    "plt.show()"
   ]
  },
  {
   "cell_type": "code",
   "execution_count": 47,
   "metadata": {
    "execution": {
     "iopub.execute_input": "2020-09-22T16:08:08.747939Z",
     "iopub.status.busy": "2020-09-22T16:08:08.747374Z",
     "iopub.status.idle": "2020-09-22T16:08:08.770616Z",
     "shell.execute_reply": "2020-09-22T16:08:08.771025Z"
    },
    "papermill": {
     "duration": 0.076222,
     "end_time": "2020-09-22T16:08:08.771211",
     "exception": false,
     "start_time": "2020-09-22T16:08:08.694989",
     "status": "completed"
    },
    "tags": []
   },
   "outputs": [
    {
     "name": "stdout",
     "output_type": "stream",
     "text": [
      "Number of classes under 20 occurences 8797 out of total number of categories 14951\n"
     ]
    }
   ],
   "source": [
    "\n",
    "print(\"Number of classes under 20 occurences\",(train_data['landmark_id'].value_counts() <= 20).sum(),'out of total number of categories',len(train_data['landmark_id'].unique()))"
   ]
  },
  {
   "cell_type": "code",
   "execution_count": 48,
   "metadata": {
    "execution": {
     "iopub.execute_input": "2020-09-22T16:08:08.870709Z",
     "iopub.status.busy": "2020-09-22T16:08:08.870028Z",
     "iopub.status.idle": "2020-09-22T16:08:08.872298Z",
     "shell.execute_reply": "2020-09-22T16:08:08.872670Z"
    },
    "papermill": {
     "duration": 0.054894,
     "end_time": "2020-09-22T16:08:08.872796",
     "exception": false,
     "start_time": "2020-09-22T16:08:08.817902",
     "status": "completed"
    },
    "tags": []
   },
   "outputs": [],
   "source": [
    "from IPython.display import Image\n",
    "from IPython.core.display import HTML \n",
    "\n",
    "def display_category(urls, category_name):\n",
    "    img_style = \"width: 180px; margin: 0px; float: left; border: 1px solid black;\"\n",
    "    images_list = ''.join([f\"<img style='{img_style}' src='{u}' />\" for _, u in urls.head(12).iteritems()])\n",
    "\n",
    "    display(HTML(images_list))"
   ]
  },
  {
   "cell_type": "code",
   "execution_count": 49,
   "metadata": {
    "execution": {
     "iopub.execute_input": "2020-09-22T16:08:08.972562Z",
     "iopub.status.busy": "2020-09-22T16:08:08.971968Z",
     "iopub.status.idle": "2020-09-22T16:08:09.004350Z",
     "shell.execute_reply": "2020-09-22T16:08:09.004779Z"
    },
    "papermill": {
     "duration": 0.085264,
     "end_time": "2020-09-22T16:08:09.004927",
     "exception": false,
     "start_time": "2020-09-22T16:08:08.919663",
     "status": "completed"
    },
    "tags": []
   },
   "outputs": [
    {
     "data": {
      "text/html": [
       "<img style='width: 180px; margin: 0px; float: left; border: 1px solid black;' src='https://lh4.googleusercontent.com/-tMoBJaphC34/R-ghJ_EcGCI/AAAAAAAABiw/Ug4rnSzaW-g/s1600/' /><img style='width: 180px; margin: 0px; float: left; border: 1px solid black;' src='https://lh6.googleusercontent.com/-fgwgYyYZiVI/S7pIknPBHGI/AAAAAAAABtk/7ZV3HOh3jmA/s0-d/' /><img style='width: 180px; margin: 0px; float: left; border: 1px solid black;' src='https://lh6.googleusercontent.com/-Kz7iu1q0zs0/SloIJ2I8AVI/AAAAAAAAEJI/akeGnMSqM0k/s1600/' /><img style='width: 180px; margin: 0px; float: left; border: 1px solid black;' src='https://lh3.googleusercontent.com/-dSBgHo2ZvPY/R4GHBn8fOiI/AAAAAAAAHAI/beiqbpFBdQ4/s1600/' /><img style='width: 180px; margin: 0px; float: left; border: 1px solid black;' src='https://lh5.googleusercontent.com/-Mww2sF21QPs/RyCsE0Od4oI/AAAAAAAAA8o/gx2LpETjz5M/s1600/' /><img style='width: 180px; margin: 0px; float: left; border: 1px solid black;' src='http://lh4.ggpht.com/-1IXX3I0zB6A/S0JZGuRv6WI/AAAAAAAAA3A/wsFERp7eh1o/s1600/' /><img style='width: 180px; margin: 0px; float: left; border: 1px solid black;' src='https://lh6.googleusercontent.com/-S-UYSsIZMtk/S82859J5K0I/AAAAAAAAGOI/xqlYZE7Hxjo/rj/' /><img style='width: 180px; margin: 0px; float: left; border: 1px solid black;' src='https://lh5.googleusercontent.com/-AXDnUkrpf7Q/TwWX933UM5I/AAAAAAABnq8/SusL3oTFjIo/s1600/' /><img style='width: 180px; margin: 0px; float: left; border: 1px solid black;' src='http://static.panoramio.com/photos/original/64791644.jpg' /><img style='width: 180px; margin: 0px; float: left; border: 1px solid black;' src='https://lh5.googleusercontent.com/-7aWoYnKB2gU/Sir7WDMKIOI/AAAAAAAAAQ8/hOfZSax6_po/s1600/' /><img style='width: 180px; margin: 0px; float: left; border: 1px solid black;' src='http://mw2.google.com/mw-panoramio/photos/medium/18574938.jpg' /><img style='width: 180px; margin: 0px; float: left; border: 1px solid black;' src='http://lh3.ggpht.com/-9OgKrbNHU58/TGId51pF54I/AAAAAAAABbc/ONEuQx2YPYE/s1600/' />"
      ],
      "text/plain": [
       "<IPython.core.display.HTML object>"
      ]
     },
     "metadata": {},
     "output_type": "display_data"
    }
   ],
   "source": [
    "category = train_data['landmark_id'].value_counts().keys()[0]\n",
    "urls = train_data[train_data['landmark_id'] == category]['url']\n",
    "display_category(urls, \"\")"
   ]
  },
  {
   "cell_type": "code",
   "execution_count": 50,
   "metadata": {
    "execution": {
     "iopub.execute_input": "2020-09-22T16:08:09.104580Z",
     "iopub.status.busy": "2020-09-22T16:08:09.103987Z",
     "iopub.status.idle": "2020-09-22T16:08:10.119554Z",
     "shell.execute_reply": "2020-09-22T16:08:10.119996Z"
    },
    "papermill": {
     "duration": 1.066882,
     "end_time": "2020-09-22T16:08:10.120175",
     "exception": false,
     "start_time": "2020-09-22T16:08:09.053293",
     "status": "completed"
    },
    "tags": []
   },
   "outputs": [],
   "source": [
    "# Extract site_names for train data\n",
    "temp_list = list()\n",
    "for path in train_data['url']:\n",
    "    temp_list.append((path.split('//', 1)[1]).split('/', 1)[0])\n",
    "train_data['site_name'] = temp_list\n",
    "# Extract site_names for test data\n",
    "temp_list = list()\n",
    "for path in test_data['url']:\n",
    "    temp_list.append((path.split('//', 1)[1]).split('/', 1)[0])\n",
    "test_data['site_name'] = temp_list"
   ]
  },
  {
   "cell_type": "code",
   "execution_count": 51,
   "metadata": {
    "execution": {
     "iopub.execute_input": "2020-09-22T16:08:10.220651Z",
     "iopub.status.busy": "2020-09-22T16:08:10.219932Z",
     "iopub.status.idle": "2020-09-22T16:08:10.226176Z",
     "shell.execute_reply": "2020-09-22T16:08:10.226673Z"
    },
    "papermill": {
     "duration": 0.058424,
     "end_time": "2020-09-22T16:08:10.226811",
     "exception": false,
     "start_time": "2020-09-22T16:08:10.168387",
     "status": "completed"
    },
    "tags": []
   },
   "outputs": [
    {
     "name": "stdout",
     "output_type": "stream",
     "text": [
      "Training data size (1225029, 4)\n",
      "test data size (117703, 3)\n"
     ]
    }
   ],
   "source": [
    "print(\"Training data size\",train_data.shape)\n",
    "print(\"test data size\",test_data.shape)"
   ]
  },
  {
   "cell_type": "code",
   "execution_count": 52,
   "metadata": {
    "execution": {
     "iopub.execute_input": "2020-09-22T16:08:10.334178Z",
     "iopub.status.busy": "2020-09-22T16:08:10.333132Z",
     "iopub.status.idle": "2020-09-22T16:08:10.337009Z",
     "shell.execute_reply": "2020-09-22T16:08:10.336540Z"
    },
    "papermill": {
     "duration": 0.061923,
     "end_time": "2020-09-22T16:08:10.337127",
     "exception": false,
     "start_time": "2020-09-22T16:08:10.275204",
     "status": "completed"
    },
    "tags": []
   },
   "outputs": [
    {
     "data": {
      "text/html": [
       "<div>\n",
       "<style scoped>\n",
       "    .dataframe tbody tr th:only-of-type {\n",
       "        vertical-align: middle;\n",
       "    }\n",
       "\n",
       "    .dataframe tbody tr th {\n",
       "        vertical-align: top;\n",
       "    }\n",
       "\n",
       "    .dataframe thead th {\n",
       "        text-align: right;\n",
       "    }\n",
       "</style>\n",
       "<table border=\"1\" class=\"dataframe\">\n",
       "  <thead>\n",
       "    <tr style=\"text-align: right;\">\n",
       "      <th></th>\n",
       "      <th>id</th>\n",
       "      <th>url</th>\n",
       "      <th>landmark_id</th>\n",
       "      <th>site_name</th>\n",
       "    </tr>\n",
       "  </thead>\n",
       "  <tbody>\n",
       "    <tr>\n",
       "      <th>0</th>\n",
       "      <td>cacf8152e2d2ae60</td>\n",
       "      <td>http://static.panoramio.com/photos/original/70...</td>\n",
       "      <td>4676</td>\n",
       "      <td>static.panoramio.com</td>\n",
       "    </tr>\n",
       "    <tr>\n",
       "      <th>1</th>\n",
       "      <td>0a58358a2afd3e4e</td>\n",
       "      <td>http://lh6.ggpht.com/-igpT6wu0mIA/ROV8HnUuABI/...</td>\n",
       "      <td>6651</td>\n",
       "      <td>lh6.ggpht.com</td>\n",
       "    </tr>\n",
       "    <tr>\n",
       "      <th>2</th>\n",
       "      <td>6b2bb500b6a38aa0</td>\n",
       "      <td>http://lh6.ggpht.com/-vKr5G5MEusk/SR6r6SJi6mI/...</td>\n",
       "      <td>11284</td>\n",
       "      <td>lh6.ggpht.com</td>\n",
       "    </tr>\n",
       "    <tr>\n",
       "      <th>3</th>\n",
       "      <td>b399f09dee9c3c67</td>\n",
       "      <td>https://lh3.googleusercontent.com/-LOW2cjAqubA...</td>\n",
       "      <td>8429</td>\n",
       "      <td>lh3.googleusercontent.com</td>\n",
       "    </tr>\n",
       "    <tr>\n",
       "      <th>4</th>\n",
       "      <td>19ace29d77a5be66</td>\n",
       "      <td>https://lh5.googleusercontent.com/-tnmSXwQcWL8...</td>\n",
       "      <td>6231</td>\n",
       "      <td>lh5.googleusercontent.com</td>\n",
       "    </tr>\n",
       "    <tr>\n",
       "      <th>5</th>\n",
       "      <td>2c9c54b62f0a6a37</td>\n",
       "      <td>https://lh5.googleusercontent.com/-mEaSECO7D-4...</td>\n",
       "      <td>10400</td>\n",
       "      <td>lh5.googleusercontent.com</td>\n",
       "    </tr>\n",
       "    <tr>\n",
       "      <th>6</th>\n",
       "      <td>0aac70a1de44ced6</td>\n",
       "      <td>http://lh6.ggpht.com/-cJMh9AYQGk8/SOkF_Q5PrjI/...</td>\n",
       "      <td>9779</td>\n",
       "      <td>lh6.ggpht.com</td>\n",
       "    </tr>\n",
       "    <tr>\n",
       "      <th>7</th>\n",
       "      <td>de770bc720f8e714</td>\n",
       "      <td>https://lh4.googleusercontent.com/-Q_FvRlwaaa8...</td>\n",
       "      <td>11288</td>\n",
       "      <td>lh4.googleusercontent.com</td>\n",
       "    </tr>\n",
       "  </tbody>\n",
       "</table>\n",
       "</div>"
      ],
      "text/plain": [
       "                 id                                                url  \\\n",
       "0  cacf8152e2d2ae60  http://static.panoramio.com/photos/original/70...   \n",
       "1  0a58358a2afd3e4e  http://lh6.ggpht.com/-igpT6wu0mIA/ROV8HnUuABI/...   \n",
       "2  6b2bb500b6a38aa0  http://lh6.ggpht.com/-vKr5G5MEusk/SR6r6SJi6mI/...   \n",
       "3  b399f09dee9c3c67  https://lh3.googleusercontent.com/-LOW2cjAqubA...   \n",
       "4  19ace29d77a5be66  https://lh5.googleusercontent.com/-tnmSXwQcWL8...   \n",
       "5  2c9c54b62f0a6a37  https://lh5.googleusercontent.com/-mEaSECO7D-4...   \n",
       "6  0aac70a1de44ced6  http://lh6.ggpht.com/-cJMh9AYQGk8/SOkF_Q5PrjI/...   \n",
       "7  de770bc720f8e714  https://lh4.googleusercontent.com/-Q_FvRlwaaa8...   \n",
       "\n",
       "   landmark_id                  site_name  \n",
       "0         4676       static.panoramio.com  \n",
       "1         6651              lh6.ggpht.com  \n",
       "2        11284              lh6.ggpht.com  \n",
       "3         8429  lh3.googleusercontent.com  \n",
       "4         6231  lh5.googleusercontent.com  \n",
       "5        10400  lh5.googleusercontent.com  \n",
       "6         9779              lh6.ggpht.com  \n",
       "7        11288  lh4.googleusercontent.com  "
      ]
     },
     "execution_count": 52,
     "metadata": {},
     "output_type": "execute_result"
    }
   ],
   "source": [
    "train_data.head(8)"
   ]
  },
  {
   "cell_type": "code",
   "execution_count": 53,
   "metadata": {
    "execution": {
     "iopub.execute_input": "2020-09-22T16:08:10.443057Z",
     "iopub.status.busy": "2020-09-22T16:08:10.442510Z",
     "iopub.status.idle": "2020-09-22T16:08:10.446586Z",
     "shell.execute_reply": "2020-09-22T16:08:10.446023Z"
    },
    "papermill": {
     "duration": 0.061446,
     "end_time": "2020-09-22T16:08:10.446690",
     "exception": false,
     "start_time": "2020-09-22T16:08:10.385244",
     "status": "completed"
    },
    "tags": []
   },
   "outputs": [
    {
     "data": {
      "text/html": [
       "<div>\n",
       "<style scoped>\n",
       "    .dataframe tbody tr th:only-of-type {\n",
       "        vertical-align: middle;\n",
       "    }\n",
       "\n",
       "    .dataframe tbody tr th {\n",
       "        vertical-align: top;\n",
       "    }\n",
       "\n",
       "    .dataframe thead th {\n",
       "        text-align: right;\n",
       "    }\n",
       "</style>\n",
       "<table border=\"1\" class=\"dataframe\">\n",
       "  <thead>\n",
       "    <tr style=\"text-align: right;\">\n",
       "      <th></th>\n",
       "      <th>id</th>\n",
       "      <th>url</th>\n",
       "      <th>site_name</th>\n",
       "    </tr>\n",
       "  </thead>\n",
       "  <tbody>\n",
       "    <tr>\n",
       "      <th>0</th>\n",
       "      <td>000088da12d664db</td>\n",
       "      <td>https://lh3.googleusercontent.com/-k45wfamuhT8...</td>\n",
       "      <td>lh3.googleusercontent.com</td>\n",
       "    </tr>\n",
       "    <tr>\n",
       "      <th>1</th>\n",
       "      <td>0001623c6d808702</td>\n",
       "      <td>https://lh3.googleusercontent.com/-OQ0ywv8KVIA...</td>\n",
       "      <td>lh3.googleusercontent.com</td>\n",
       "    </tr>\n",
       "    <tr>\n",
       "      <th>2</th>\n",
       "      <td>0001bbb682d45002</td>\n",
       "      <td>https://lh3.googleusercontent.com/-kloLenz1xZk...</td>\n",
       "      <td>lh3.googleusercontent.com</td>\n",
       "    </tr>\n",
       "    <tr>\n",
       "      <th>3</th>\n",
       "      <td>0002362830cfe3a3</td>\n",
       "      <td>https://lh3.googleusercontent.com/-N6z79jNZYTg...</td>\n",
       "      <td>lh3.googleusercontent.com</td>\n",
       "    </tr>\n",
       "    <tr>\n",
       "      <th>4</th>\n",
       "      <td>000270c9100de789</td>\n",
       "      <td>https://lh3.googleusercontent.com/-keriHaVOq1U...</td>\n",
       "      <td>lh3.googleusercontent.com</td>\n",
       "    </tr>\n",
       "  </tbody>\n",
       "</table>\n",
       "</div>"
      ],
      "text/plain": [
       "                 id                                                url  \\\n",
       "0  000088da12d664db  https://lh3.googleusercontent.com/-k45wfamuhT8...   \n",
       "1  0001623c6d808702  https://lh3.googleusercontent.com/-OQ0ywv8KVIA...   \n",
       "2  0001bbb682d45002  https://lh3.googleusercontent.com/-kloLenz1xZk...   \n",
       "3  0002362830cfe3a3  https://lh3.googleusercontent.com/-N6z79jNZYTg...   \n",
       "4  000270c9100de789  https://lh3.googleusercontent.com/-keriHaVOq1U...   \n",
       "\n",
       "                   site_name  \n",
       "0  lh3.googleusercontent.com  \n",
       "1  lh3.googleusercontent.com  \n",
       "2  lh3.googleusercontent.com  \n",
       "3  lh3.googleusercontent.com  \n",
       "4  lh3.googleusercontent.com  "
      ]
     },
     "execution_count": 53,
     "metadata": {},
     "output_type": "execute_result"
    }
   ],
   "source": [
    "test_data.head()"
   ]
  },
  {
   "cell_type": "code",
   "execution_count": 54,
   "metadata": {
    "execution": {
     "iopub.execute_input": "2020-09-22T16:08:10.709731Z",
     "iopub.status.busy": "2020-09-22T16:08:10.657937Z",
     "iopub.status.idle": "2020-09-22T16:08:10.720479Z",
     "shell.execute_reply": "2020-09-22T16:08:10.720984Z"
    },
    "papermill": {
     "duration": 0.226046,
     "end_time": "2020-09-22T16:08:10.721164",
     "exception": false,
     "start_time": "2020-09-22T16:08:10.495118",
     "status": "completed"
    },
    "tags": []
   },
   "outputs": [
    {
     "data": {
      "text/html": [
       "<div>\n",
       "<style scoped>\n",
       "    .dataframe tbody tr th:only-of-type {\n",
       "        vertical-align: middle;\n",
       "    }\n",
       "\n",
       "    .dataframe tbody tr th {\n",
       "        vertical-align: top;\n",
       "    }\n",
       "\n",
       "    .dataframe thead th {\n",
       "        text-align: right;\n",
       "    }\n",
       "</style>\n",
       "<table border=\"1\" class=\"dataframe\">\n",
       "  <thead>\n",
       "    <tr style=\"text-align: right;\">\n",
       "      <th></th>\n",
       "      <th>site_name</th>\n",
       "      <th>count</th>\n",
       "    </tr>\n",
       "  </thead>\n",
       "  <tbody>\n",
       "    <tr>\n",
       "      <th>0</th>\n",
       "      <td>lh3.googleusercontent.com</td>\n",
       "      <td>182010</td>\n",
       "    </tr>\n",
       "    <tr>\n",
       "      <th>1</th>\n",
       "      <td>lh4.googleusercontent.com</td>\n",
       "      <td>177774</td>\n",
       "    </tr>\n",
       "    <tr>\n",
       "      <th>2</th>\n",
       "      <td>lh5.googleusercontent.com</td>\n",
       "      <td>175251</td>\n",
       "    </tr>\n",
       "    <tr>\n",
       "      <th>3</th>\n",
       "      <td>lh6.googleusercontent.com</td>\n",
       "      <td>171506</td>\n",
       "    </tr>\n",
       "    <tr>\n",
       "      <th>4</th>\n",
       "      <td>lh3.ggpht.com</td>\n",
       "      <td>105043</td>\n",
       "    </tr>\n",
       "    <tr>\n",
       "      <th>5</th>\n",
       "      <td>lh4.ggpht.com</td>\n",
       "      <td>102460</td>\n",
       "    </tr>\n",
       "    <tr>\n",
       "      <th>6</th>\n",
       "      <td>lh6.ggpht.com</td>\n",
       "      <td>102066</td>\n",
       "    </tr>\n",
       "    <tr>\n",
       "      <th>7</th>\n",
       "      <td>lh5.ggpht.com</td>\n",
       "      <td>100905</td>\n",
       "    </tr>\n",
       "    <tr>\n",
       "      <th>8</th>\n",
       "      <td>mw2.google.com</td>\n",
       "      <td>94947</td>\n",
       "    </tr>\n",
       "    <tr>\n",
       "      <th>9</th>\n",
       "      <td>static.panoramio.com</td>\n",
       "      <td>12468</td>\n",
       "    </tr>\n",
       "    <tr>\n",
       "      <th>10</th>\n",
       "      <td>commondatastorage.googleapis.com</td>\n",
       "      <td>591</td>\n",
       "    </tr>\n",
       "    <tr>\n",
       "      <th>11</th>\n",
       "      <td>1-ps.googleusercontent.com</td>\n",
       "      <td>3</td>\n",
       "    </tr>\n",
       "    <tr>\n",
       "      <th>12</th>\n",
       "      <td>0-focus-opensocial.googleusercontent.com</td>\n",
       "      <td>2</td>\n",
       "    </tr>\n",
       "    <tr>\n",
       "      <th>13</th>\n",
       "      <td>celebhot.hol.es</td>\n",
       "      <td>1</td>\n",
       "    </tr>\n",
       "    <tr>\n",
       "      <th>14</th>\n",
       "      <td>r2.bru02t11.c.bigcache.googleapis.com</td>\n",
       "      <td>1</td>\n",
       "    </tr>\n",
       "    <tr>\n",
       "      <th>15</th>\n",
       "      <td>image.imagesexplore.info</td>\n",
       "      <td>1</td>\n",
       "    </tr>\n",
       "  </tbody>\n",
       "</table>\n",
       "</div>"
      ],
      "text/plain": [
       "                                   site_name   count\n",
       "0                  lh3.googleusercontent.com  182010\n",
       "1                  lh4.googleusercontent.com  177774\n",
       "2                  lh5.googleusercontent.com  175251\n",
       "3                  lh6.googleusercontent.com  171506\n",
       "4                              lh3.ggpht.com  105043\n",
       "5                              lh4.ggpht.com  102460\n",
       "6                              lh6.ggpht.com  102066\n",
       "7                              lh5.ggpht.com  100905\n",
       "8                             mw2.google.com   94947\n",
       "9                       static.panoramio.com   12468\n",
       "10          commondatastorage.googleapis.com     591\n",
       "11                1-ps.googleusercontent.com       3\n",
       "12  0-focus-opensocial.googleusercontent.com       2\n",
       "13                           celebhot.hol.es       1\n",
       "14     r2.bru02t11.c.bigcache.googleapis.com       1\n",
       "15                  image.imagesexplore.info       1"
      ]
     },
     "execution_count": 54,
     "metadata": {},
     "output_type": "execute_result"
    }
   ],
   "source": [
    "# Occurance of site in decreasing order(Top categories)\n",
    "temp = pd.DataFrame(train_data.site_name.value_counts())\n",
    "temp.reset_index(inplace=True)\n",
    "temp.columns = ['site_name','count']\n",
    "temp"
   ]
  },
  {
   "cell_type": "code",
   "execution_count": 55,
   "metadata": {
    "execution": {
     "iopub.execute_input": "2020-09-22T16:08:10.822750Z",
     "iopub.status.busy": "2020-09-22T16:08:10.822112Z",
     "iopub.status.idle": "2020-09-22T16:08:11.054752Z",
     "shell.execute_reply": "2020-09-22T16:08:11.055224Z"
    },
    "papermill": {
     "duration": 0.285075,
     "end_time": "2020-09-22T16:08:11.055373",
     "exception": false,
     "start_time": "2020-09-22T16:08:10.770298",
     "status": "completed"
    },
    "tags": []
   },
   "outputs": [
    {
     "data": {
      "image/png": "[encoded data removed]",
      "text/plain": [
       "<Figure size 648x576 with 1 Axes>"
      ]
     },
     "metadata": {
      "needs_background": "light"
     },
     "output_type": "display_data"
    }
   ],
   "source": [
    "# Plot the Sites with their count\n",
    "plt.figure(figsize = (9, 8))\n",
    "plt.title('Sites with their count')\n",
    "sns.set_color_codes(\"pastel\")\n",
    "sns.barplot(x=\"site_name\", y=\"count\", data=temp,\n",
    "            label=\"Count\")\n",
    "locs, labels = plt.xticks()\n",
    "plt.setp(labels, rotation=90)\n",
    "plt.show()"
   ]
  },
  {
   "cell_type": "code",
   "execution_count": 56,
   "metadata": {
    "execution": {
     "iopub.execute_input": "2020-09-22T16:08:11.160420Z",
     "iopub.status.busy": "2020-09-22T16:08:11.159881Z",
     "iopub.status.idle": "2020-09-22T16:08:11.189021Z",
     "shell.execute_reply": "2020-09-22T16:08:11.188541Z"
    },
    "papermill": {
     "duration": 0.083312,
     "end_time": "2020-09-22T16:08:11.189164",
     "exception": false,
     "start_time": "2020-09-22T16:08:11.105852",
     "status": "completed"
    },
    "tags": []
   },
   "outputs": [
    {
     "data": {
      "text/html": [
       "<div>\n",
       "<style scoped>\n",
       "    .dataframe tbody tr th:only-of-type {\n",
       "        vertical-align: middle;\n",
       "    }\n",
       "\n",
       "    .dataframe tbody tr th {\n",
       "        vertical-align: top;\n",
       "    }\n",
       "\n",
       "    .dataframe thead th {\n",
       "        text-align: right;\n",
       "    }\n",
       "</style>\n",
       "<table border=\"1\" class=\"dataframe\">\n",
       "  <thead>\n",
       "    <tr style=\"text-align: right;\">\n",
       "      <th></th>\n",
       "      <th>site_name</th>\n",
       "      <th>count</th>\n",
       "    </tr>\n",
       "  </thead>\n",
       "  <tbody>\n",
       "    <tr>\n",
       "      <th>0</th>\n",
       "      <td>lh3.googleusercontent.com</td>\n",
       "      <td>116855</td>\n",
       "    </tr>\n",
       "    <tr>\n",
       "      <th>1</th>\n",
       "      <td>lh3.ggpht.com</td>\n",
       "      <td>166</td>\n",
       "    </tr>\n",
       "    <tr>\n",
       "      <th>2</th>\n",
       "      <td>lh5.ggpht.com</td>\n",
       "      <td>134</td>\n",
       "    </tr>\n",
       "    <tr>\n",
       "      <th>3</th>\n",
       "      <td>lh4.ggpht.com</td>\n",
       "      <td>123</td>\n",
       "    </tr>\n",
       "    <tr>\n",
       "      <th>4</th>\n",
       "      <td>images1-focus-opensocial.googleusercontent.com</td>\n",
       "      <td>102</td>\n",
       "    </tr>\n",
       "    <tr>\n",
       "      <th>5</th>\n",
       "      <td>lh6.ggpht.com</td>\n",
       "      <td>92</td>\n",
       "    </tr>\n",
       "    <tr>\n",
       "      <th>6</th>\n",
       "      <td>lh5.googleusercontent.com</td>\n",
       "      <td>80</td>\n",
       "    </tr>\n",
       "    <tr>\n",
       "      <th>7</th>\n",
       "      <td>lh4.googleusercontent.com</td>\n",
       "      <td>55</td>\n",
       "    </tr>\n",
       "    <tr>\n",
       "      <th>8</th>\n",
       "      <td>static.panoramio.com</td>\n",
       "      <td>47</td>\n",
       "    </tr>\n",
       "    <tr>\n",
       "      <th>9</th>\n",
       "      <td>lh6.googleusercontent.com</td>\n",
       "      <td>28</td>\n",
       "    </tr>\n",
       "    <tr>\n",
       "      <th>10</th>\n",
       "      <td>images2-focus-opensocial.googleusercontent.com</td>\n",
       "      <td>3</td>\n",
       "    </tr>\n",
       "    <tr>\n",
       "      <th>11</th>\n",
       "      <td>images-onepick-opensocial.googleusercontent.com</td>\n",
       "      <td>2</td>\n",
       "    </tr>\n",
       "    <tr>\n",
       "      <th>12</th>\n",
       "      <td>img01.rl0.ru</td>\n",
       "      <td>2</td>\n",
       "    </tr>\n",
       "    <tr>\n",
       "      <th>13</th>\n",
       "      <td>img06.rl0.ru</td>\n",
       "      <td>2</td>\n",
       "    </tr>\n",
       "    <tr>\n",
       "      <th>14</th>\n",
       "      <td>img02.rl0.ru</td>\n",
       "      <td>2</td>\n",
       "    </tr>\n",
       "    <tr>\n",
       "      <th>15</th>\n",
       "      <td>img08.rl0.ru</td>\n",
       "      <td>1</td>\n",
       "    </tr>\n",
       "    <tr>\n",
       "      <th>16</th>\n",
       "      <td>img09.rl0.ru</td>\n",
       "      <td>1</td>\n",
       "    </tr>\n",
       "    <tr>\n",
       "      <th>17</th>\n",
       "      <td>cdn.champbell.net</td>\n",
       "      <td>1</td>\n",
       "    </tr>\n",
       "    <tr>\n",
       "      <th>18</th>\n",
       "      <td>extreme.com.ua</td>\n",
       "      <td>1</td>\n",
       "    </tr>\n",
       "    <tr>\n",
       "      <th>19</th>\n",
       "      <td>1.bp.blogspot.com</td>\n",
       "      <td>1</td>\n",
       "    </tr>\n",
       "    <tr>\n",
       "      <th>20</th>\n",
       "      <td>cdn.photogyps.com</td>\n",
       "      <td>1</td>\n",
       "    </tr>\n",
       "    <tr>\n",
       "      <th>21</th>\n",
       "      <td>jiu-jitsu-mo.ru</td>\n",
       "      <td>1</td>\n",
       "    </tr>\n",
       "    <tr>\n",
       "      <th>22</th>\n",
       "      <td>images-blogger-opensocial.googleusercontent.com</td>\n",
       "      <td>1</td>\n",
       "    </tr>\n",
       "    <tr>\n",
       "      <th>23</th>\n",
       "      <td>a.disquscdn.com</td>\n",
       "      <td>1</td>\n",
       "    </tr>\n",
       "    <tr>\n",
       "      <th>24</th>\n",
       "      <td>img07.rl0.ru</td>\n",
       "      <td>1</td>\n",
       "    </tr>\n",
       "  </tbody>\n",
       "</table>\n",
       "</div>"
      ],
      "text/plain": [
       "                                          site_name   count\n",
       "0                         lh3.googleusercontent.com  116855\n",
       "1                                     lh3.ggpht.com     166\n",
       "2                                     lh5.ggpht.com     134\n",
       "3                                     lh4.ggpht.com     123\n",
       "4    images1-focus-opensocial.googleusercontent.com     102\n",
       "5                                     lh6.ggpht.com      92\n",
       "6                         lh5.googleusercontent.com      80\n",
       "7                         lh4.googleusercontent.com      55\n",
       "8                              static.panoramio.com      47\n",
       "9                         lh6.googleusercontent.com      28\n",
       "10   images2-focus-opensocial.googleusercontent.com       3\n",
       "11  images-onepick-opensocial.googleusercontent.com       2\n",
       "12                                     img01.rl0.ru       2\n",
       "13                                     img06.rl0.ru       2\n",
       "14                                     img02.rl0.ru       2\n",
       "15                                     img08.rl0.ru       1\n",
       "16                                     img09.rl0.ru       1\n",
       "17                                cdn.champbell.net       1\n",
       "18                                   extreme.com.ua       1\n",
       "19                                1.bp.blogspot.com       1\n",
       "20                                cdn.photogyps.com       1\n",
       "21                                  jiu-jitsu-mo.ru       1\n",
       "22  images-blogger-opensocial.googleusercontent.com       1\n",
       "23                                  a.disquscdn.com       1\n",
       "24                                     img07.rl0.ru       1"
      ]
     },
     "execution_count": 56,
     "metadata": {},
     "output_type": "execute_result"
    }
   ],
   "source": [
    "# Occurance of site in decreasing order(Top categories)\n",
    "temp = pd.DataFrame(test_data.site_name.value_counts())\n",
    "temp.reset_index(inplace=True)\n",
    "temp.columns = ['site_name','count']\n",
    "temp"
   ]
  },
  {
   "cell_type": "code",
   "execution_count": 57,
   "metadata": {
    "execution": {
     "iopub.execute_input": "2020-09-22T16:08:11.297918Z",
     "iopub.status.busy": "2020-09-22T16:08:11.296999Z",
     "iopub.status.idle": "2020-09-22T16:08:11.683717Z",
     "shell.execute_reply": "2020-09-22T16:08:11.684171Z"
    },
    "papermill": {
     "duration": 0.444325,
     "end_time": "2020-09-22T16:08:11.684313",
     "exception": false,
     "start_time": "2020-09-22T16:08:11.239988",
     "status": "completed"
    },
    "tags": []
   },
   "outputs": [
    {
     "data": {
      "image/png": "[encoded data removed]",
      "text/plain": [
       "<Figure size 648x576 with 1 Axes>"
      ]
     },
     "metadata": {
      "needs_background": "light"
     },
     "output_type": "display_data"
    }
   ],
   "source": [
    "# Plot the Sites with their count\n",
    "plt.figure(figsize = (9, 8))\n",
    "plt.title('Sites with their count')\n",
    "sns.set_color_codes(\"pastel\")\n",
    "sns.barplot(x=\"site_name\", y=\"count\", data=temp,\n",
    "            label=\"Count\")\n",
    "locs, labels = plt.xticks()\n",
    "plt.setp(labels, rotation=90)\n",
    "plt.show()"
   ]
  },
  {
   "cell_type": "code",
   "execution_count": 58,
   "metadata": {
    "execution": {
     "iopub.execute_input": "2020-09-22T16:08:11.793512Z",
     "iopub.status.busy": "2020-09-22T16:08:11.792669Z",
     "iopub.status.idle": "2020-09-22T16:08:34.646167Z",
     "shell.execute_reply": "2020-09-22T16:08:34.645577Z"
    },
    "papermill": {
     "duration": 22.908434,
     "end_time": "2020-09-22T16:08:34.646301",
     "exception": false,
     "start_time": "2020-09-22T16:08:11.737867",
     "status": "completed"
    },
    "tags": []
   },
   "outputs": [],
   "source": [
    "# take the most frequent label\n",
    "freq_label = train_df['landmark_id'].value_counts()/train_df['landmark_id'].value_counts().sum()\n",
    "\n",
    "# submit the most freq label\n",
    "submission['landmarks'] = '%d %2.2f' % (freq_label.index[0], freq_label.values[0])\n",
    "submission.to_csv('submission.csv', index=False)\n",
    "\n",
    "np.random.seed(2018)\n",
    "r_idx = lambda : np.random.choice(freq_label.index, p = freq_label.values)\n",
    "\n",
    "r_score = lambda idx: '%d %2.4f' % (freq_label.index[idx], freq_label.values[idx])\n",
    "submission['landmarks'] = submission.id.map(lambda _: r_score(r_idx()))\n",
    "submission.to_csv('rand_submission.csv', index=False)"
   ]
  },
  {
   "cell_type": "code",
   "execution_count": null,
   "metadata": {
    "papermill": {
     "duration": 0.060071,
     "end_time": "2020-09-22T16:08:34.768632",
     "exception": false,
     "start_time": "2020-09-22T16:08:34.708561",
     "status": "completed"
    },
    "tags": []
   },
   "outputs": [],
   "source": []
  }
 ],
 "metadata": {
  "kernelspec": {
   "display_name": "Python 3",
   "language": "python",
   "name": "python3"
  },
  "language_info": {
   "codemirror_mode": {
    "name": "ipython",
    "version": 3
   },
   "file_extension": ".py",
   "mimetype": "text/x-python",
   "name": "python",
   "nbconvert_exporter": "python",
   "pygments_lexer": "ipython3",
   "version": "3.7.6"
  },
  "papermill": {
   "duration": 52.745873,
   "end_time": "2020-09-22T16:08:34.938873",
   "environment_variables": {},
   "exception": null,
   "input_path": "__notebook__.ipynb",
   "output_path": "__notebook__.ipynb",
   "parameters": {},
   "start_time": "2020-09-22T16:07:42.193000",
   "version": "2.1.0"
  }
 },
 "nbformat": 4,
 "nbformat_minor": 4
}
